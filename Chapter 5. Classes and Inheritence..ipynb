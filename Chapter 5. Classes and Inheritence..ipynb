{
 "cells": [
  {
   "cell_type": "markdown",
   "metadata": {},
   "source": [
    "Copyright 2021 LoisLab"
   ]
  },
  {
   "cell_type": "markdown",
   "metadata": {},
   "source": [
    "# **Fredsie Forges a Sword**\n",
    "\n",
    "#### **Actually, Fredsie forges a whole class of swords.**"
   ]
  },
  {
   "cell_type": "markdown",
   "metadata": {},
   "source": [
    "A raven delivers this message to Fredsie, written in Elfish:\n",
    "\n",
    "*HAE ORWYWT IEUAMDFINSEDDYU A IHFV NRE RED.*\n",
    "\n",
    "Fredsie knows how to translate Elfish into English:"
   ]
  },
  {
   "cell_type": "code",
   "execution_count": 1,
   "metadata": {},
   "outputs": [
    {
     "data": {
      "text/plain": [
       "'HEADED YOUR WAY WITH FIVE UNARMED FRIENDS.'"
      ]
     },
     "execution_count": 1,
     "metadata": {},
     "output_type": "execute_result"
    }
   ],
   "source": [
    "elfish = 'HAE ORWYWT IEUAMDFINSEDDYU A IHFV NRE RED.'\n",
    "# for the truly curious... how does Fredsie translate Elfish into English? \n",
    "english = [elfish[i] + elfish[len(elfish)//2+i] for i in range(len(elfish)//2)]\n",
    "msg = ''\n",
    "for c in english:\n",
    "    msg += c\n",
    "msg"
   ]
  },
  {
   "cell_type": "markdown",
   "metadata": {},
   "source": [
    "Fredsie fires their forge, pulls out their iron tongs, and prepares to equip the elves. They knows that they will be making weapons, but not exactly what kind. As Fredsie thinks it over, they also realizes that weapons have two important characteristics:\n",
    "\n",
    "1. each weapon *is* a thing (like a club, sword, or bow)\n",
    "\n",
    "2. each weapon *does* a thing (it allows some sort of attack)\n",
    "\n",
    "Fredsie knows how to describe things, like the Elves, using Python data structures like sets, lists, or dictionaries. If they took that approach for weapons, they could easily handle the *is a thing* part of the problem. How would they represent the fact the each weapon also *does a thing?* Is there a meaningful way to combine data structures and code, into one neat bundle?\n"
   ]
  },
  {
   "cell_type": "markdown",
   "metadata": {},
   "source": [
    "---\n",
    "\n",
    "#### **How to create a class, in Python**\n",
    "\n",
    "Fredsie starts with a sword:"
   ]
  },
  {
   "cell_type": "code",
   "execution_count": null,
   "metadata": {},
   "outputs": [],
   "source": [
    "import random\n",
    "\n",
    "'''\n",
    "Fredsie creates a Python class to represent a sword\n",
    "'''\n",
    "class Sword:\n",
    "    \n",
    "    def attack(self):              # what the heck is 'self'? ...stay tuned.\n",
    "        return random.randint(1,6) # damage is equal to rolling one six-sided die\n",
    "    \n",
    "    def get_max_range(self):       # (there it is again, 'self')\n",
    "        return 1                   # swords only work when close to an enemy"
   ]
  },
  {
   "cell_type": "markdown",
   "metadata": {},
   "source": [
    "What did Fredsie accomplish? Is <code>Sword</code> a sword? Apart from the obvious danger (swords are sharp), Fredsie has triggered a...\n",
    "\n",
    "---\n",
    "\n",
    "**WARNING OF EXTREME DANGER (6)**\n",
    "\n",
    "In Fredsie's code, <code>Sword</code> is a **type** of thing, not an **actual** thing. In Python (and other languages), a newly defined type of thing is called a **class**, while an actual thing (of that type) is called an **instance**. So: \"Fredsie is a Hobbit\" would equate to: class=Hobbit, instance=Fredsie. You may meet other Hobbits, only one (instance) of which is Fredsie, but every Hobbit is of the same type, namely: Hobbit. If you need to remind yourself of the difference between a class and an instance, imagine a class called Dog, with instances called be Fido, Pepper, Spike, and Muffin.\n",
    "\n",
    "---\n",
    "\n",
    "So is Fredsie's <code>Sword</code> an actual thing? Or, if <code>Sword</code> is not an actual thing, how do you make a sword, in case you are considering a visit to the Eastern Pass?\n",
    "\n",
    "Let's make a sword to see what happens:"
   ]
  },
  {
   "cell_type": "code",
   "execution_count": null,
   "metadata": {},
   "outputs": [],
   "source": [
    "my_sword = Sword()\n",
    "print(\"Here is my sword: \", my_sword)"
   ]
  },
  {
   "cell_type": "markdown",
   "metadata": {},
   "source": [
    "Yikes! Fredsie's sword looks a lot like a memory address. Would you face a dragon armed with a memory address? (If you just made a joke to yourself involving the word **pointer**, you are in the wrong programming class).\n",
    "\n",
    "Apart from a memory address, what, exactly, is my_sword?"
   ]
  },
  {
   "cell_type": "code",
   "execution_count": null,
   "metadata": {},
   "outputs": [],
   "source": [
    "type(my_sword)"
   ]
  },
  {
   "cell_type": "markdown",
   "metadata": {},
   "source": [
    "Apparently, it's a Sword (or, coherently: **my_sword** is an instance of class **Sword**).\n",
    "\n",
    "Any idea how to examine its characteristics?"
   ]
  },
  {
   "cell_type": "code",
   "execution_count": null,
   "metadata": {},
   "outputs": [],
   "source": [
    "print('I attacked, and my sword did', my_sword.attack(), 'damage!')"
   ]
  },
  {
   "cell_type": "code",
   "execution_count": null,
   "metadata": {},
   "outputs": [],
   "source": [
    "print('The maximum range of my sword is', my_sword.get_max_range())"
   ]
  },
  {
   "cell_type": "markdown",
   "metadata": {},
   "source": [
    "In Python-speak, <code>attack</code> and <code>get_max_range</code> are **member functions** of the class Sword. If you make a Sword, it can do those things... or any thing for which you write a member function.\n",
    "\n",
    "Now, what about that odd word **self** that Fredsie included in their code?\n",
    "\n",
    "To understand **self**, ask Fredsie to create swords that have unique serial numbers, for use in case a sword is stolen, or left outside a pub where it gets confused with another sword. The serial number is assigned when the sword is created, using a special built-in function called <code>__init__</code>:\n"
   ]
  },
  {
   "cell_type": "code",
   "execution_count": null,
   "metadata": {},
   "outputs": [],
   "source": [
    "import random\n",
    "\n",
    "'''\n",
    "When Python runs a member function like attack(), the code might be applied to\n",
    "any of several instances of Sword. As you will see, distinguishing one instance\n",
    "from another can be important. The keyword 'self' means 'this instance of Sword',\n",
    "which Python needs when one instance is different from another.\n",
    "'''\n",
    "\n",
    "class Sword:\n",
    "    '''\n",
    "    Python classes have a special member function called __init__\n",
    "    which runs every time you make a new instance of that class.\n",
    "    '''\n",
    "    def __init__(self):       # the keyword 'self' refers to 'this particular instance of Sword'\n",
    "        self.serial_number = random.randint(1000000,9999999)\n",
    "    \n",
    "    def attack(self):         # the keyword 'self' refers to 'this particular instance of Sword'\n",
    "        return random.randint(1,6)\n",
    "    \n",
    "    def get_max_range(self):  # the keyword 'self' refers to 'this particular instance of Sword'\n",
    "        return 1"
   ]
  },
  {
   "cell_type": "code",
   "execution_count": null,
   "metadata": {},
   "outputs": [],
   "source": [
    "my_sword = Sword()\n",
    "your_sword = Sword()\n",
    "\n",
    "print('My sword has serial #', my_sword.serial_number,'and you sword has serial #', your_sword.serial_number)"
   ]
  },
  {
   "cell_type": "markdown",
   "metadata": {},
   "source": [
    "That's good, we have different serial numbers... is my sword the same instance as your sword?"
   ]
  },
  {
   "cell_type": "code",
   "execution_count": null,
   "metadata": {},
   "outputs": [],
   "source": [
    "my_sword is your_sword"
   ]
  },
  {
   "cell_type": "markdown",
   "metadata": {},
   "source": [
    "Phew. It would be hard to fight a dragon if we had to share one sword.\n",
    "\n",
    "Let's teach a <code>Sword</code> how to describe itself:"
   ]
  },
  {
   "cell_type": "code",
   "execution_count": null,
   "metadata": {},
   "outputs": [],
   "source": [
    "import random\n",
    "\n",
    "class Sword:\n",
    "    def __init__(self):       # the keyword 'self' refers to 'this particular instance of Sword'\n",
    "        self.serial_number = random.randint(1000000,9999999)\n",
    "    \n",
    "    def attack(self):         # the keyword 'self' refers to 'this particular instance of Sword'\n",
    "        return random.randint(1,6)\n",
    "    \n",
    "    def get_max_range(self):  # the keyword 'self' refers to 'this particular instance of Sword'\n",
    "        return 1\n",
    "    '''\n",
    "    Python classes have a special member function called __str__ that allows\n",
    "    an instance to describe itself (that way, if you call print(thing), you\n",
    "    get a reasonable description of the thing you printed)\n",
    "    '''\n",
    "    def __str__(self):\n",
    "        return 'Sword with serial #' + str(self.serial_number)"
   ]
  },
  {
   "cell_type": "code",
   "execution_count": null,
   "metadata": {},
   "outputs": [],
   "source": [
    "my_sword = Sword()\n",
    "your_sword = Sword()\n",
    "\n",
    "# this is so much easier now the __str__ is implemented:\n",
    "print(my_sword,',', your_sword)"
   ]
  },
  {
   "cell_type": "markdown",
   "metadata": {},
   "source": [
    "---\n",
    "\n",
    "#### **Inheritence: When a Type of a Thing is Based on a Type of a Thing (...is Based on...)**\n",
    "\n"
   ]
  },
  {
   "cell_type": "markdown",
   "metadata": {},
   "source": [
    "Fredsie a quite the bladesmith. They can make all sorts of swords. To prepare for the arrival of the elves, Fredsie decides to make three types of swords: rapiers, long swords, and claymores.\n",
    "\n",
    "All swords have certain things in common (like a serial number), but each type of sword may have certain characteristics of its own. How should Fredsie represent types of things that are based on types of things?\n",
    "\n",
    "In other words: a poodle is a dog, a French poodle is a poodle, Fifi is a French poodle. Clearly, Fifi is an actual instance of a thing (French poodle), but how would you represent the relationship {dog, poodle, French poodle} in Python?\n",
    "\n",
    "You could make three distinct, unrelated classes:"
   ]
  },
  {
   "cell_type": "code",
   "execution_count": 1,
   "metadata": {},
   "outputs": [],
   "source": [
    "class Dog:\n",
    "    def bark(self):\n",
    "        return 'woof'\n",
    "\n",
    "class Poodle:\n",
    "    def bark(self):\n",
    "        return 'ark'\n",
    "    \n",
    "class FrenchPoodle:\n",
    "    def bark(self):\n",
    "        return 'yip'"
   ]
  },
  {
   "cell_type": "code",
   "execution_count": 2,
   "metadata": {},
   "outputs": [
    {
     "data": {
      "text/plain": [
       "'woof'"
      ]
     },
     "execution_count": 2,
     "metadata": {},
     "output_type": "execute_result"
    }
   ],
   "source": [
    "fifi = Dog()\n",
    "fifi.bark()"
   ]
  },
  {
   "cell_type": "code",
   "execution_count": 3,
   "metadata": {},
   "outputs": [
    {
     "data": {
      "text/plain": [
       "'ark'"
      ]
     },
     "execution_count": 3,
     "metadata": {},
     "output_type": "execute_result"
    }
   ],
   "source": [
    "fifi = Poodle()\n",
    "fifi.bark()"
   ]
  },
  {
   "cell_type": "code",
   "execution_count": 4,
   "metadata": {},
   "outputs": [
    {
     "data": {
      "text/plain": [
       "'yip'"
      ]
     },
     "execution_count": 4,
     "metadata": {},
     "output_type": "execute_result"
    }
   ],
   "source": [
    "fifi = FrenchPoodle()\n",
    "fifi.bark()"
   ]
  },
  {
   "cell_type": "markdown",
   "metadata": {},
   "source": [
    "In a way, that works... but you did not really capture the fact that Fifi is really a French poodle, a poodle, and a dog. What would happen when you wanted to represent something common to all dogs?"
   ]
  },
  {
   "cell_type": "code",
   "execution_count": 5,
   "metadata": {},
   "outputs": [],
   "source": [
    "class Dog:\n",
    "    def bark(self):\n",
    "        return 'woof'\n",
    "    \n",
    "    def get_number_of_legs(self):  # dogs have four legs\n",
    "        return 4\n",
    "\n",
    "class Poodle:\n",
    "    def bark(self):\n",
    "        return 'ark'\n",
    "    \n",
    "    def get_number_of_legs(self):  # poodles, which are dogs, have four legs\n",
    "        return 4\n",
    "    \n",
    "class FrenchPoodle:\n",
    "    def bark(self):\n",
    "        return 'yip'\n",
    "    \n",
    "    def get_number_of_legs(self):  # French poodles have... 4 legs\n",
    "        return 4"
   ]
  },
  {
   "cell_type": "code",
   "execution_count": 6,
   "metadata": {},
   "outputs": [
    {
     "name": "stdout",
     "output_type": "stream",
     "text": [
      "Fifi says yip and has 4 legs.\n"
     ]
    }
   ],
   "source": [
    "fifi = FrenchPoodle()\n",
    "print('Fifi says', fifi.bark(), 'and has', fifi.get_number_of_legs(),'legs.')"
   ]
  },
  {
   "cell_type": "markdown",
   "metadata": {},
   "source": [
    "That code works, but it fails to capture the relationship between dogs, poodles, and French poodles. Is it really necessary to implement <code>get_number_of_legs</code> three times, knowing that the result is based on being a dog, but not any particular type of dog?\n",
    "\n",
    "When types of things exist in a **hierarchy**, Python allows you to create classes based on classes, stacked up, to show what each layer has in common, and where each layer differs.  \n",
    "\n",
    "In this case, the hierarchy is: a dog, a poodle (is a dog), a French poodle (is a poodle).\n",
    "\n",
    "Stacked up, it looks like this:\n",
    "\n",
    "```\n",
    "     FrenchPoodle   <- A specific type of Poodle, which is therefore a Dog\n",
    "     Poodle         <- Poodle stuff (curly), but not any specific poodle\n",
    "     Dog            <- common to all dogs (furry)\n",
    "\n",
    "```\n",
    "\n",
    "The rules of class heirarchy are simple: if an instance of a class does not know a thing or can't do a thing, ask the next class down the stack. Common elements belong in elements deeper down the stack, and more specific elements belong nearer the top. The very bottom is often called the **base (or super) class**, in the middle you might find one or more **intermediate classes**, and at the top, **subclasses**:\n",
    "\n",
    "```\n",
    "     ============   ============   ==========================================\n",
    "     class          subclass       superclass\n",
    "     ------------   ------------   ------------------------------------------\n",
    "     FrenchPoodle   (none)         Poodle\n",
    "     Poodle         FrenchPoodle   Dog\n",
    "     Dog            Poodle         Object  <- Object is a built-in superclass\n",
    "\n",
    "```\n",
    "\n",
    "So, you can reliably implement <code>get_number_of_legs()</code> in the base class **Dog**, then allow the subclasses Poodle and FrenchPoodle to **inheret** that method:"
   ]
  },
  {
   "cell_type": "code",
   "execution_count": 8,
   "metadata": {},
   "outputs": [],
   "source": [
    "'''\n",
    "Here is an example of a 'class hierarchy':\n",
    "\n",
    ">> Dog is the superclass, at the top of the hierarchy\n",
    ">> Poodle is a subclass of Dog: a Poodle is a Dog\n",
    ">> FrenchPoodle is a subclass of Poodle: a FrenchPoodle is a Poodle, which is a Dog\n",
    "'''\n",
    "\n",
    "class Dog:\n",
    "    def bark(self):\n",
    "        return 'woof'\n",
    "    \n",
    "    def get_number_of_legs(self):  # this member function gets 'inherited' by any subclass of Dog\n",
    "        return 4                   # all dogs have four legs\n",
    "\n",
    "class Poodle(Dog):                 # how many legs does a Poodle have? ...ask Dog?\n",
    "    def bark(self):\n",
    "        return 'ark'\n",
    "    \n",
    "class FrenchPoodle(Poodle):        # how many legs does a French Poodle have? ...ask Poodle?\n",
    "    def bark(self):\n",
    "        return 'yip'"
   ]
  },
  {
   "cell_type": "code",
   "execution_count": 9,
   "metadata": {},
   "outputs": [
    {
     "name": "stdout",
     "output_type": "stream",
     "text": [
      "Fifi says yip and has 4 legs.\n"
     ]
    }
   ],
   "source": [
    "fifi = FrenchPoodle()\n",
    "print('Fifi says', fifi.bark(), 'and has', fifi.get_number_of_legs(),'legs.')"
   ]
  },
  {
   "cell_type": "markdown",
   "metadata": {},
   "source": [
    "---\n",
    "\n",
    "#### **Thinking Ahead when Creating Classes**\n",
    "\n",
    "The example about poodles causes Fredsie to think ahead, since some elves may be armed with bows or slings, not swords.\n",
    "\n",
    "They start this way:"
   ]
  },
  {
   "cell_type": "code",
   "execution_count": 10,
   "metadata": {},
   "outputs": [],
   "source": [
    "import random\n",
    "'''\n",
    "Fredsie creates a base class that can represent any weapon,\n",
    "then subclasses for bows, slings, and swords.\n",
    "'''\n",
    "class Weapon:\n",
    "    \n",
    "    def __init__(self):\n",
    "        self.serial_number = random.randint(1000000,9999999)\n",
    "        \n",
    "    def sound(self):\n",
    "        return 'thud'\n",
    "    \n",
    "    def __str__(self):\n",
    "        return 'serial #' + str(self.serial_number)\n",
    "    \n",
    "    \n",
    "class Bow(Weapon):\n",
    "    \n",
    "    def get_max_range(self):\n",
    "        return 6\n",
    "    \n",
    "    def __str__(self):\n",
    "        return \"Bow, \" + super().__str__()  # super() means 'the class above this one'\n",
    "\n",
    "    \n",
    "class Sling(Weapon):\n",
    "    \n",
    "    def get_max_range(self):\n",
    "        return 3 \n",
    "    \n",
    "    def __str__(self):\n",
    "        return \"Sling, \" + super().__str__()\n",
    "    \n",
    "    \n",
    "class Sword(Weapon):\n",
    "    \n",
    "    def get_max_range(self):\n",
    "        return 1 \n",
    "    \n",
    "    def __str__(self):\n",
    "        return \"Sword, \" + super().__str__()"
   ]
  },
  {
   "cell_type": "code",
   "execution_count": 11,
   "metadata": {},
   "outputs": [
    {
     "name": "stdout",
     "output_type": "stream",
     "text": [
      "Bow, serial #1477422\n"
     ]
    }
   ],
   "source": [
    "print(Bow())"
   ]
  },
  {
   "cell_type": "code",
   "execution_count": 12,
   "metadata": {},
   "outputs": [
    {
     "name": "stdout",
     "output_type": "stream",
     "text": [
      "Sling, serial #3167608\n"
     ]
    }
   ],
   "source": [
    "print(Sling())"
   ]
  },
  {
   "cell_type": "code",
   "execution_count": 13,
   "metadata": {},
   "outputs": [
    {
     "name": "stdout",
     "output_type": "stream",
     "text": [
      "Sword, serial #4040228\n"
     ]
    }
   ],
   "source": [
    "print(Sword())"
   ]
  },
  {
   "cell_type": "markdown",
   "metadata": {},
   "source": [
    "Now Fredsie is off to the races. They create their swords based on Sword, which is based on Weapon:"
   ]
  },
  {
   "cell_type": "code",
   "execution_count": 14,
   "metadata": {},
   "outputs": [],
   "source": [
    "class Rapier(Sword):\n",
    "    \n",
    "    def attack(self):\n",
    "        return random.randint(1,6)\n",
    "    \n",
    "    def sound(self):\n",
    "        return 'pzzz...schzzz..zinggg'\n",
    "    \n",
    "    def __str__(self):\n",
    "        return 'Rapier range=' + str(self.get_max_range()) + ' #' + str(self.serial_number)  \n",
    "\n",
    "    \n",
    "class Claymore(Sword):\n",
    "    \n",
    "    def attack(self):\n",
    "        return random.randint(1,6)+random.randint(1,6)\n",
    "    \n",
    "    def __str__(self):\n",
    "        return 'Claymore range=' + str(self.get_max_range()) + ' #' + str(self.serial_number)\n",
    "    \n",
    "    \n",
    "class LongSword(Sword):\n",
    "    \n",
    "    def attack(self):\n",
    "        return random.randint(1,6)+2\n",
    "    \n",
    "    def get_max_range(self):  # LongSword 'overloads' this function from Sword\n",
    "        return 2\n",
    "    \n",
    "    def __str__(self):\n",
    "        return 'Long Sword range=' + str(self.get_max_range()) + ' #' + str(self.serial_number)"
   ]
  },
  {
   "cell_type": "code",
   "execution_count": 15,
   "metadata": {},
   "outputs": [
    {
     "name": "stdout",
     "output_type": "stream",
     "text": [
      "Posi wields a Rapier range=1 #8103843 with ferocity\n",
      "Posi attacks, pzzz...schzzz..zinggg!, doing 6 damage.\n",
      "\n",
      "Maio wields a Claymore range=1 #5120020 with ferocity\n",
      "Maio attacks, thud!, doing 10 damage.\n",
      "\n",
      "Dorn wields a Long Sword range=2 #6061254 with ferocity\n",
      "Dorn attacks, thud!, doing 4 damage.\n",
      "\n"
     ]
    }
   ],
   "source": [
    "from incantations import weapon_test\n",
    "\n",
    "weapon_test(Rapier())\n",
    "weapon_test(Claymore())\n",
    "weapon_test(LongSword())"
   ]
  },
  {
   "cell_type": "markdown",
   "metadata": {},
   "source": [
    "---\n",
    "\n",
    "#### **Make Classes for Bows and Slings**\n",
    "\n",
    "Help Fredsie out by making classes for bows and slings. Make sure your weapons have attacks, maximum ranges, and interesting sounds."
   ]
  },
  {
   "cell_type": "code",
   "execution_count": 16,
   "metadata": {},
   "outputs": [
    {
     "name": "stdout",
     "output_type": "stream",
     "text": [
      "Maio wields a your-weapon-here with ferocity\n"
     ]
    },
    {
     "ename": "AttributeError",
     "evalue": "'str' object has no attribute 'sound'",
     "output_type": "error",
     "traceback": [
      "\u001b[1;31m---------------------------------------------------------------------------\u001b[0m",
      "\u001b[1;31mAttributeError\u001b[0m                            Traceback (most recent call last)",
      "\u001b[1;32m<ipython-input-16-f6a853778501>\u001b[0m in \u001b[0;36m<module>\u001b[1;34m\u001b[0m\n\u001b[0;32m      3\u001b[0m \u001b[1;31m# test your weapons!\u001b[0m\u001b[1;33m\u001b[0m\u001b[1;33m\u001b[0m\u001b[1;33m\u001b[0m\u001b[0m\n\u001b[0;32m      4\u001b[0m \u001b[1;33m\u001b[0m\u001b[0m\n\u001b[1;32m----> 5\u001b[1;33m \u001b[0mweapon_test\u001b[0m\u001b[1;33m(\u001b[0m\u001b[1;34m'''your-weapon-here'''\u001b[0m\u001b[1;33m)\u001b[0m\u001b[1;33m\u001b[0m\u001b[1;33m\u001b[0m\u001b[0m\n\u001b[0m",
      "\u001b[1;32m~\\IntroToPython\\incantations.py\u001b[0m in \u001b[0;36mweapon_test\u001b[1;34m(weapon)\u001b[0m\n\u001b[0;32m     43\u001b[0m     \u001b[0me\u001b[0m \u001b[1;33m=\u001b[0m \u001b[0melf\u001b[0m\u001b[1;33m(\u001b[0m\u001b[1;33m)\u001b[0m\u001b[1;33m\u001b[0m\u001b[1;33m\u001b[0m\u001b[0m\n\u001b[0;32m     44\u001b[0m     \u001b[0mprint\u001b[0m\u001b[1;33m(\u001b[0m\u001b[0me\u001b[0m\u001b[1;33m[\u001b[0m\u001b[1;34m'name'\u001b[0m\u001b[1;33m]\u001b[0m \u001b[1;33m+\u001b[0m \u001b[1;34m' wields a '\u001b[0m \u001b[1;33m+\u001b[0m \u001b[0mweapon\u001b[0m\u001b[1;33m.\u001b[0m\u001b[0m__str__\u001b[0m\u001b[1;33m(\u001b[0m\u001b[1;33m)\u001b[0m \u001b[1;33m+\u001b[0m \u001b[1;34m' with '\u001b[0m \u001b[1;33m+\u001b[0m \u001b[0mrandom\u001b[0m\u001b[1;33m.\u001b[0m\u001b[0mchoice\u001b[0m\u001b[1;33m(\u001b[0m\u001b[1;33m(\u001b[0m\u001b[1;33m[\u001b[0m\u001b[1;34m'determination'\u001b[0m\u001b[1;33m,\u001b[0m \u001b[1;34m'ferocity'\u001b[0m\u001b[1;33m,\u001b[0m \u001b[1;34m'angst'\u001b[0m\u001b[1;33m]\u001b[0m\u001b[1;33m)\u001b[0m\u001b[1;33m)\u001b[0m\u001b[1;33m)\u001b[0m\u001b[1;33m\u001b[0m\u001b[1;33m\u001b[0m\u001b[0m\n\u001b[1;32m---> 45\u001b[1;33m     \u001b[0mprint\u001b[0m\u001b[1;33m(\u001b[0m\u001b[0me\u001b[0m\u001b[1;33m[\u001b[0m\u001b[1;34m'name'\u001b[0m\u001b[1;33m]\u001b[0m \u001b[1;33m+\u001b[0m \u001b[1;34m' attacks, '\u001b[0m \u001b[1;33m+\u001b[0m \u001b[0mweapon\u001b[0m\u001b[1;33m.\u001b[0m\u001b[0msound\u001b[0m\u001b[1;33m(\u001b[0m\u001b[1;33m)\u001b[0m \u001b[1;33m+\u001b[0m \u001b[1;34m'!, doing '\u001b[0m \u001b[1;33m+\u001b[0m \u001b[0mstr\u001b[0m\u001b[1;33m(\u001b[0m\u001b[0mweapon\u001b[0m\u001b[1;33m.\u001b[0m\u001b[0mattack\u001b[0m\u001b[1;33m(\u001b[0m\u001b[1;33m)\u001b[0m\u001b[1;33m)\u001b[0m \u001b[1;33m+\u001b[0m \u001b[1;34m' damage.\\n'\u001b[0m\u001b[1;33m)\u001b[0m\u001b[1;33m\u001b[0m\u001b[1;33m\u001b[0m\u001b[0m\n\u001b[0m\u001b[0;32m     46\u001b[0m \u001b[1;33m\u001b[0m\u001b[0m\n",
      "\u001b[1;31mAttributeError\u001b[0m: 'str' object has no attribute 'sound'"
     ]
    }
   ],
   "source": [
    "# your code here\n",
    "\n",
    "# test your weapons!\n",
    "\n",
    "weapon_test('''your-weapon-here''')"
   ]
  },
  {
   "cell_type": "code",
   "execution_count": null,
   "metadata": {},
   "outputs": [],
   "source": []
  }
 ],
 "metadata": {
  "kernelspec": {
   "display_name": "Python 3",
   "language": "python",
   "name": "python3"
  },
  "language_info": {
   "codemirror_mode": {
    "name": "ipython",
    "version": 3
   },
   "file_extension": ".py",
   "mimetype": "text/x-python",
   "name": "python",
   "nbconvert_exporter": "python",
   "pygments_lexer": "ipython3",
   "version": "3.8.3"
  }
 },
 "nbformat": 4,
 "nbformat_minor": 5
}
