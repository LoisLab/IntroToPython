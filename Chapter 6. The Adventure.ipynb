{
 "cells": [
  {
   "cell_type": "markdown",
   "id": "pleased-science",
   "metadata": {},
   "source": [
    "Copyright 2021 LoisLab LLC"
   ]
  },
  {
   "cell_type": "markdown",
   "id": "mathematical-projection",
   "metadata": {},
   "source": [
    "# **The Elves Encounter the Dragon**\n",
    "\n",
    "**Can they get it to fly away?**"
   ]
  },
  {
   "cell_type": "markdown",
   "id": "decimal-mercury",
   "metadata": {},
   "source": [
    "#### **How to plug functions into existing systems**\n",
    "\n",
    "Inevitably, Sett and his five friends arrive, in need of weapons:"
   ]
  },
  {
   "cell_type": "code",
   "execution_count": 1,
   "id": "recognized-generic",
   "metadata": {},
   "outputs": [
    {
     "data": {
      "text/html": [
       "<div>\n",
       "<style scoped>\n",
       "    .dataframe tbody tr th:only-of-type {\n",
       "        vertical-align: middle;\n",
       "    }\n",
       "\n",
       "    .dataframe tbody tr th {\n",
       "        vertical-align: top;\n",
       "    }\n",
       "\n",
       "    .dataframe thead th {\n",
       "        text-align: right;\n",
       "    }\n",
       "</style>\n",
       "<table border=\"1\" class=\"dataframe\">\n",
       "  <thead>\n",
       "    <tr style=\"text-align: right;\">\n",
       "      <th></th>\n",
       "      <th>name</th>\n",
       "      <th>race</th>\n",
       "      <th>friends</th>\n",
       "      <th>spells</th>\n",
       "      <th>height</th>\n",
       "      <th>health</th>\n",
       "      <th>intelligence</th>\n",
       "    </tr>\n",
       "  </thead>\n",
       "  <tbody>\n",
       "    <tr>\n",
       "      <th>0</th>\n",
       "      <td>Sett</td>\n",
       "      <td>elf</td>\n",
       "      <td>{Fredsie}</td>\n",
       "      <td>{poof}</td>\n",
       "      <td>5.5</td>\n",
       "      <td>36</td>\n",
       "      <td>45</td>\n",
       "    </tr>\n",
       "    <tr>\n",
       "      <th>1</th>\n",
       "      <td>Cosi</td>\n",
       "      <td>elf</td>\n",
       "      <td>{Zey, Klee, Ryo}</td>\n",
       "      <td>{heal, fireball, stall}</td>\n",
       "      <td>3.1</td>\n",
       "      <td>44</td>\n",
       "      <td>44</td>\n",
       "    </tr>\n",
       "    <tr>\n",
       "      <th>2</th>\n",
       "      <td>Kyo</td>\n",
       "      <td>elf</td>\n",
       "      <td>{Bre, Elas, Sash}</td>\n",
       "      <td>{fireball, freeze}</td>\n",
       "      <td>3.7</td>\n",
       "      <td>41</td>\n",
       "      <td>24</td>\n",
       "    </tr>\n",
       "    <tr>\n",
       "      <th>3</th>\n",
       "      <td>Sneiji</td>\n",
       "      <td>elf</td>\n",
       "      <td>{Qaio, Aidon}</td>\n",
       "      <td>{invisible, shadow}</td>\n",
       "      <td>4.2</td>\n",
       "      <td>41</td>\n",
       "      <td>38</td>\n",
       "    </tr>\n",
       "    <tr>\n",
       "      <th>4</th>\n",
       "      <td>Dorn</td>\n",
       "      <td>elf</td>\n",
       "      <td>{Fra, Paila}</td>\n",
       "      <td>{freeze, stall, shadow}</td>\n",
       "      <td>4.7</td>\n",
       "      <td>33</td>\n",
       "      <td>28</td>\n",
       "    </tr>\n",
       "    <tr>\n",
       "      <th>5</th>\n",
       "      <td>Maio</td>\n",
       "      <td>elf</td>\n",
       "      <td>{Posi, Ardith}</td>\n",
       "      <td>{sleep, stall, invisible}</td>\n",
       "      <td>3.2</td>\n",
       "      <td>33</td>\n",
       "      <td>17</td>\n",
       "    </tr>\n",
       "  </tbody>\n",
       "</table>\n",
       "</div>"
      ],
      "text/plain": [
       "     name race            friends                     spells  height  health  \\\n",
       "0    Sett  elf          {Fredsie}                     {poof}     5.5      36   \n",
       "1    Cosi  elf   {Zey, Klee, Ryo}    {heal, fireball, stall}     3.1      44   \n",
       "2     Kyo  elf  {Bre, Elas, Sash}         {fireball, freeze}     3.7      41   \n",
       "3  Sneiji  elf      {Qaio, Aidon}        {invisible, shadow}     4.2      41   \n",
       "4    Dorn  elf       {Fra, Paila}    {freeze, stall, shadow}     4.7      33   \n",
       "5    Maio  elf     {Posi, Ardith}  {sleep, stall, invisible}     3.2      33   \n",
       "\n",
       "   intelligence  \n",
       "0            45  \n",
       "1            44  \n",
       "2            24  \n",
       "3            38  \n",
       "4            28  \n",
       "5            17  "
      ]
     },
     "execution_count": 1,
     "metadata": {},
     "output_type": "execute_result"
    }
   ],
   "source": [
    "import pandas as pd # you will learn a lot about pandas in the near future\n",
    "from adventure import *\n",
    "\n",
    "setts_party = get_the_elves() # get Sett and his friends\n",
    "\n",
    "pd.DataFrame(setts_party)     # this makes a legible table"
   ]
  },
  {
   "cell_type": "markdown",
   "id": "smaller-repeat",
   "metadata": {},
   "source": [
    "Sett asks Fredsie to equip the elves. Soon, you will have the chance to do that on your own. For now, follow Fredsie so that you have an example. Fredsie starts with the familiar task of fashioning a new class of Weapon which is a basic sword:"
   ]
  },
  {
   "cell_type": "code",
   "execution_count": 2,
   "id": "vital-kitchen",
   "metadata": {},
   "outputs": [
    {
     "name": "stdout",
     "output_type": "stream",
     "text": [
      "basic sword\n"
     ]
    }
   ],
   "source": [
    "import random\n",
    "\n",
    "# Fredsie fashions a basic sword\n",
    "class BasicSword(Weapon):\n",
    "    \n",
    "    def attack(self):\n",
    "        return random.randint(1,6) # damage is 1d6 (that means: roll one six-sided die)\n",
    "    \n",
    "    def sound(self):\n",
    "        return 'shwinggg'\n",
    "    \n",
    "    def __str__(self):\n",
    "        return 'basic sword'\n",
    "    \n",
    "\n",
    "print(BasicSword())"
   ]
  },
  {
   "cell_type": "markdown",
   "id": "connected-wedding",
   "metadata": {},
   "source": [
    "Fredsie also makes a fancy sword, as a subclass of basic sword, because, programming example:"
   ]
  },
  {
   "cell_type": "code",
   "execution_count": 3,
   "id": "binding-twelve",
   "metadata": {},
   "outputs": [],
   "source": [
    "# a fancy sword is a basic sword that makes a different sound\n",
    "class FancySword(BasicSword):\n",
    "    \n",
    "    def sound(self):\n",
    "        return 'whooooosh'\n",
    "    \n",
    "    def __str__(self):\n",
    "        return 'fancy sword'"
   ]
  },
  {
   "cell_type": "markdown",
   "id": "italic-manor",
   "metadata": {},
   "source": [
    "Next, Fredsie needs a way to make a weapon for a given Elf. In the future, he might want to base his weapon-making on an Elf's particular characteristics, or other weapons already provided to that Elf's companions, but for now, to keep things simple, he bases his weapon-making on the Elf's name.\n",
    "\n",
    "The adventure provides a function called <code>equip_the_elves</code>. That function requires two arguments:\n",
    "\n",
    "1. A function that equips an elf\n",
    "2. A list of Elves that need to be equipped\n",
    "\n",
    "Fredsie has the list of elves:"
   ]
  },
  {
   "cell_type": "code",
   "execution_count": 4,
   "id": "improving-return",
   "metadata": {},
   "outputs": [
    {
     "data": {
      "text/plain": [
       "list"
      ]
     },
     "execution_count": 4,
     "metadata": {},
     "output_type": "execute_result"
    }
   ],
   "source": [
    "type(setts_party)"
   ]
  },
  {
   "cell_type": "markdown",
   "id": "oriented-impression",
   "metadata": {},
   "source": [
    "But he needs an elf-equipping function, for example:"
   ]
  },
  {
   "cell_type": "code",
   "execution_count": 5,
   "id": "front-coast",
   "metadata": {},
   "outputs": [],
   "source": [
    "# This function return a weapon for the specified elf\n",
    "def make_weapon(elf):\n",
    "    if elf['name'] == 'Sett':  # Sett gets special treatment\n",
    "        return FancySword()\n",
    "    else:\n",
    "        return BasicSword()"
   ]
  },
  {
   "cell_type": "markdown",
   "id": "animated-policy",
   "metadata": {},
   "source": [
    "Fredsie can test his function by passing it an elf, and seeing what is returned:"
   ]
  },
  {
   "cell_type": "code",
   "execution_count": 6,
   "id": "devoted-prefix",
   "metadata": {},
   "outputs": [
    {
     "data": {
      "text/plain": [
       "{'name': 'Sett',\n",
       " 'race': 'elf',\n",
       " 'friends': {'Fredsie'},\n",
       " 'spells': {'poof'},\n",
       " 'height': 5.5,\n",
       " 'health': 36,\n",
       " 'intelligence': 45}"
      ]
     },
     "execution_count": 6,
     "metadata": {},
     "output_type": "execute_result"
    }
   ],
   "source": [
    "this_elf = setts_party[0]   # this should be Sett, he is at the top of the list\n",
    "this_elf"
   ]
  },
  {
   "cell_type": "code",
   "execution_count": 7,
   "id": "hired-compilation",
   "metadata": {},
   "outputs": [
    {
     "name": "stdout",
     "output_type": "stream",
     "text": [
      "fancy sword\n"
     ]
    }
   ],
   "source": [
    "weapon = make_weapon(this_elf)\n",
    "print(weapon)"
   ]
  },
  {
   "cell_type": "code",
   "execution_count": 8,
   "id": "innocent-native",
   "metadata": {},
   "outputs": [
    {
     "data": {
      "text/plain": [
       "{'name': 'Cosi',\n",
       " 'race': 'elf',\n",
       " 'friends': {'Klee', 'Ryo', 'Zey'},\n",
       " 'spells': {'fireball', 'heal', 'stall'},\n",
       " 'height': 3.1,\n",
       " 'health': 44,\n",
       " 'intelligence': 44}"
      ]
     },
     "execution_count": 8,
     "metadata": {},
     "output_type": "execute_result"
    }
   ],
   "source": [
    "this_elf = setts_party[1]   # this should be some other elf\n",
    "this_elf"
   ]
  },
  {
   "cell_type": "code",
   "execution_count": 9,
   "id": "exciting-february",
   "metadata": {},
   "outputs": [
    {
     "name": "stdout",
     "output_type": "stream",
     "text": [
      "basic sword\n"
     ]
    }
   ],
   "source": [
    "weapon = make_weapon(this_elf)\n",
    "print(weapon)"
   ]
  },
  {
   "cell_type": "markdown",
   "id": "integrated-diversity",
   "metadata": {},
   "source": [
    "#### **How to Pass a Function to a Function**\n",
    "\n",
    "Fredsie is ready to equip the elves. To do that, he passes his function <code>make_weapon</code>, along with <code>setts_party</code>, to the function <code>equip_the_elves</code>. That way, <code>equip_the_elves</code> can use <code>make_weapon</code> to create a weapon for each elf in <code>setts_party</code>:"
   ]
  },
  {
   "cell_type": "code",
   "execution_count": 10,
   "id": "orange-decimal",
   "metadata": {},
   "outputs": [
    {
     "name": "stdout",
     "output_type": "stream",
     "text": [
      "Sett carries a fancy sword that goes whooooosh\n",
      "Cosi carries a basic sword that goes shwinggg\n",
      "Kyo carries a basic sword that goes shwinggg\n",
      "Sneiji carries a basic sword that goes shwinggg\n",
      "Dorn carries a basic sword that goes shwinggg\n",
      "Maio carries a basic sword that goes shwinggg\n"
     ]
    }
   ],
   "source": [
    "# this function calls make_weapon once for\n",
    "# each elf in Sett's party...\n",
    "\n",
    "equip_the_elves(make_weapon, setts_party)\n",
    "#               ^^^^^^^^^^^  ^^^^^^^^^^^\n",
    "#               a function      a list"
   ]
  },
  {
   "cell_type": "markdown",
   "id": "geological-bowling",
   "metadata": {},
   "source": [
    "Now the elves are equipped, like this:"
   ]
  },
  {
   "cell_type": "code",
   "execution_count": 11,
   "id": "designing-consortium",
   "metadata": {},
   "outputs": [
    {
     "data": {
      "text/html": [
       "<div>\n",
       "<style scoped>\n",
       "    .dataframe tbody tr th:only-of-type {\n",
       "        vertical-align: middle;\n",
       "    }\n",
       "\n",
       "    .dataframe tbody tr th {\n",
       "        vertical-align: top;\n",
       "    }\n",
       "\n",
       "    .dataframe thead th {\n",
       "        text-align: right;\n",
       "    }\n",
       "</style>\n",
       "<table border=\"1\" class=\"dataframe\">\n",
       "  <thead>\n",
       "    <tr style=\"text-align: right;\">\n",
       "      <th></th>\n",
       "      <th>name</th>\n",
       "      <th>race</th>\n",
       "      <th>friends</th>\n",
       "      <th>spells</th>\n",
       "      <th>height</th>\n",
       "      <th>health</th>\n",
       "      <th>intelligence</th>\n",
       "      <th>weapon</th>\n",
       "    </tr>\n",
       "  </thead>\n",
       "  <tbody>\n",
       "    <tr>\n",
       "      <th>0</th>\n",
       "      <td>Sett</td>\n",
       "      <td>elf</td>\n",
       "      <td>{Fredsie}</td>\n",
       "      <td>{poof}</td>\n",
       "      <td>5.5</td>\n",
       "      <td>36</td>\n",
       "      <td>45</td>\n",
       "      <td>fancy sword</td>\n",
       "    </tr>\n",
       "    <tr>\n",
       "      <th>1</th>\n",
       "      <td>Cosi</td>\n",
       "      <td>elf</td>\n",
       "      <td>{Zey, Klee, Ryo}</td>\n",
       "      <td>{heal, fireball, stall}</td>\n",
       "      <td>3.1</td>\n",
       "      <td>44</td>\n",
       "      <td>44</td>\n",
       "      <td>basic sword</td>\n",
       "    </tr>\n",
       "    <tr>\n",
       "      <th>2</th>\n",
       "      <td>Kyo</td>\n",
       "      <td>elf</td>\n",
       "      <td>{Bre, Elas, Sash}</td>\n",
       "      <td>{fireball, freeze}</td>\n",
       "      <td>3.7</td>\n",
       "      <td>41</td>\n",
       "      <td>24</td>\n",
       "      <td>basic sword</td>\n",
       "    </tr>\n",
       "    <tr>\n",
       "      <th>3</th>\n",
       "      <td>Sneiji</td>\n",
       "      <td>elf</td>\n",
       "      <td>{Qaio, Aidon}</td>\n",
       "      <td>{invisible, shadow}</td>\n",
       "      <td>4.2</td>\n",
       "      <td>41</td>\n",
       "      <td>38</td>\n",
       "      <td>basic sword</td>\n",
       "    </tr>\n",
       "    <tr>\n",
       "      <th>4</th>\n",
       "      <td>Dorn</td>\n",
       "      <td>elf</td>\n",
       "      <td>{Fra, Paila}</td>\n",
       "      <td>{freeze, stall, shadow}</td>\n",
       "      <td>4.7</td>\n",
       "      <td>33</td>\n",
       "      <td>28</td>\n",
       "      <td>basic sword</td>\n",
       "    </tr>\n",
       "    <tr>\n",
       "      <th>5</th>\n",
       "      <td>Maio</td>\n",
       "      <td>elf</td>\n",
       "      <td>{Posi, Ardith}</td>\n",
       "      <td>{sleep, stall, invisible}</td>\n",
       "      <td>3.2</td>\n",
       "      <td>33</td>\n",
       "      <td>17</td>\n",
       "      <td>basic sword</td>\n",
       "    </tr>\n",
       "  </tbody>\n",
       "</table>\n",
       "</div>"
      ],
      "text/plain": [
       "     name race            friends                     spells  height  health  \\\n",
       "0    Sett  elf          {Fredsie}                     {poof}     5.5      36   \n",
       "1    Cosi  elf   {Zey, Klee, Ryo}    {heal, fireball, stall}     3.1      44   \n",
       "2     Kyo  elf  {Bre, Elas, Sash}         {fireball, freeze}     3.7      41   \n",
       "3  Sneiji  elf      {Qaio, Aidon}        {invisible, shadow}     4.2      41   \n",
       "4    Dorn  elf       {Fra, Paila}    {freeze, stall, shadow}     4.7      33   \n",
       "5    Maio  elf     {Posi, Ardith}  {sleep, stall, invisible}     3.2      33   \n",
       "\n",
       "   intelligence       weapon  \n",
       "0            45  fancy sword  \n",
       "1            44  basic sword  \n",
       "2            24  basic sword  \n",
       "3            38  basic sword  \n",
       "4            28  basic sword  \n",
       "5            17  basic sword  "
      ]
     },
     "execution_count": 11,
     "metadata": {},
     "output_type": "execute_result"
    }
   ],
   "source": [
    "pd.DataFrame(setts_party)"
   ]
  },
  {
   "cell_type": "markdown",
   "id": "latest-contrast",
   "metadata": {},
   "source": [
    "Now it is Sett's turn to write some code. He has to create the function <code>engage</code>, which takes an elf as an argument and returns either a weapon or a spell with which to engage the dragon. Here's the problem: he does not have time to include any reasonable decision-making in his function, so he panics and just guesses at a good response, which is **cast a random spell, or if you run out of spells, use your weapon.**"
   ]
  },
  {
   "cell_type": "code",
   "execution_count": 12,
   "id": "arranged-queensland",
   "metadata": {},
   "outputs": [
    {
     "name": "stdout",
     "output_type": "stream",
     "text": [
      "---the elves attack------------------------------------------\n",
      "Sett casts poof!\n",
      "Poof!  Settvanishes is a puff of smoke and reappears with health of 38\n",
      "...the flash and smoke confuses  Dread Fxnord\n",
      "Cosi casts fireball!\n",
      "Cosi attacks Dread Fxnord with a fireball ... foom ... 14 damage ( 386 to go).\n",
      "Kyo casts freeze!\n",
      "Kyo attacks Dread Fxnord with a ice ball ... brrrrr...zap ... 4 damage ( 382 to go).\n",
      "Sneiji casts shadow!\n",
      "(faaaawaaaa)  Sneiji casts a spell and the entire party becomes shadows of themselves\n",
      "Dorn casts freeze!\n",
      "Dorn attacks Dread Fxnord with a ice ball ... brrrrr...zap ... 4 damage ( 378 to go).\n",
      "Maio casts stall!\n",
      "Whoa!... Maiocasts stall,  Dread Fxnord stumbles!\n",
      "---the dragon attacks----------------------------------------\n",
      "Dread Fxnord is confused and cannot cast a spell\n",
      "Dread Fxnord cannot lash out because it is unable to move\n",
      "HEALTH: [('Sett', 38), ('Cosi', 44), ('Kyo', 41), ('Sneiji', 41), ('Dorn', 33), ('Maio', 33)] \n",
      "\n",
      "Dread Fxnord is {'seeing shadows', 'stalled', 'confused'}\n",
      "---the elves attack------------------------------------------\n",
      "Sett attacks Dread Fxnord with a fancy sword ... whooooosh ... 4 damage ( 374 to go).\n",
      "Cosi casts stall!\n",
      "Whoa!... Cosicasts stall,  Dread Fxnord stumbles!\n",
      "Kyo casts fireball!\n",
      "Kyo attacks Dread Fxnord with a fireball ... whoosh ... 12 damage ( 362 to go).\n",
      "Sneiji casts invisible!\n",
      "(pzzzwing)  Sneiji casts a spell and the entire party becomes invisible\n",
      "Dorn casts stall!\n",
      "Whoa!... Dorncasts stall,  Dread Fxnord stumbles!\n",
      "Maio casts invisible!\n",
      "(pzzzwing)  Maio casts a spell and the entire party becomes invisible\n",
      "---the dragon attacks----------------------------------------\n",
      "Dread Fxnord casts fireball!\n",
      "Dread Fxnord attacks Sneiji with a fireball ... whoosh ... 12 damage ( 29 to go).\n",
      "Dread Fxnord cannot lash out because its enemies are invisible\n",
      "HEALTH: [('Sett', 38), ('Cosi', 44), ('Kyo', 41), ('Sneiji', 29), ('Dorn', 33), ('Maio', 33)] \n",
      "\n",
      "Dread Fxnord is {'stalled', 'blinded'}\n",
      "---the elves attack------------------------------------------\n",
      "Sett attacks Dread Fxnord with a fancy sword ... whooooosh ... 4 damage ( 358 to go).\n",
      "Cosi casts heal!\n",
      "Cosi mumbles heal and gains 10 health, total health is now 54\n",
      "Kyo attacks Dread Fxnord with a basic sword ... shwinggg ... 1 damage ( 357 to go).\n",
      "Sneiji attacks Dread Fxnord with a basic sword ... shwinggg ... 6 damage ( 351 to go).\n",
      "Dorn casts shadow!\n",
      "(faaaawaaaa)  Dorn casts a spell and the entire party becomes shadows of themselves\n",
      "Maio casts sleep!\n",
      "Shhhh.... Maiocasts sleep,  Dread Fxnord shakes itself awake again!\n",
      "---the dragon attacks----------------------------------------\n",
      "Dread Fxnord is seeing shadows and cannot decide where to cast a spell\n",
      "Dread Fxnord attacks Dorn with a dragon fire ... screeeeee ... 12 damage ( 21 to go).\n",
      "HEALTH: [('Sett', 38), ('Cosi', 54), ('Kyo', 41), ('Sneiji', 29), ('Dorn', 21), ('Maio', 33)] \n",
      "\n",
      "Dread Fxnord is {'seeing shadows'}\n",
      "---the elves attack------------------------------------------\n",
      "Sett attacks Dread Fxnord with a fancy sword ... whooooosh ... 3 damage ( 348 to go).\n",
      "Cosi attacks Dread Fxnord with a basic sword ... shwinggg ... 5 damage ( 343 to go).\n",
      "Kyo attacks Dread Fxnord with a basic sword ... shwinggg ... 3 damage ( 340 to go).\n",
      "Sneiji attacks Dread Fxnord with a basic sword ... shwinggg ... 6 damage ( 334 to go).\n",
      "Dorn attacks Dread Fxnord with a basic sword ... shwinggg ... 3 damage ( 331 to go).\n",
      "Maio attacks Dread Fxnord with a basic sword ... shwinggg ... 1 damage ( 330 to go).\n",
      "---the dragon attacks----------------------------------------\n",
      "Dread Fxnord casts fireball!\n",
      "Dread Fxnord attacks Kyo with a fireball ... whoosh ... 12 damage ( 29 to go).\n",
      "Dread Fxnord attacks Dorn with a dragon fire ... kaboom ... 11 damage ( 10 to go).\n",
      "HEALTH: [('Sett', 38), ('Cosi', 54), ('Kyo', 29), ('Sneiji', 29), ('Dorn', 10), ('Maio', 33)] \n",
      "\n",
      "---the elves attack------------------------------------------\n",
      "Sett attacks Dread Fxnord with a fancy sword ... whooooosh ... 2 damage ( 328 to go).\n",
      "Cosi attacks Dread Fxnord with a basic sword ... shwinggg ... 5 damage ( 323 to go).\n",
      "Kyo attacks Dread Fxnord with a basic sword ... shwinggg ... 5 damage ( 318 to go).\n",
      "Sneiji attacks Dread Fxnord with a basic sword ... shwinggg ... 5 damage ( 313 to go).\n",
      "Dorn attacks Dread Fxnord with a basic sword ... shwinggg ... 4 damage ( 309 to go).\n",
      "Maio attacks Dread Fxnord with a basic sword ... shwinggg ... 6 damage ( 303 to go).\n",
      "---the dragon attacks----------------------------------------\n",
      "Dread Fxnord casts fireball!\n",
      "Dread Fxnord attacks Dorn with a fireball ... zwishhhhhh ... 18 damage ( 0 to go).\n",
      "Dread Fxnord attacks Kyo with a dragon fire ... screeeeee ... 12 damage ( 17 to go).\n",
      "HEALTH: [('Sett', 38), ('Cosi', 54), ('Kyo', 17), ('Sneiji', 29), ('Dorn', 0), ('Maio', 33)] \n",
      "\n",
      "---the elves attack------------------------------------------\n",
      "Sett attacks Dread Fxnord with a fancy sword ... whooooosh ... 5 damage ( 298 to go).\n",
      "Cosi attacks Dread Fxnord with a basic sword ... shwinggg ... 6 damage ( 292 to go).\n",
      "Kyo attacks Dread Fxnord with a basic sword ... shwinggg ... 4 damage ( 288 to go).\n",
      "Sneiji attacks Dread Fxnord with a basic sword ... shwinggg ... 2 damage ( 286 to go).\n",
      "Maio attacks Dread Fxnord with a basic sword ... shwinggg ... 6 damage ( 280 to go).\n",
      "---the dragon attacks----------------------------------------\n",
      "Dread Fxnord casts fireball!\n",
      "Dread Fxnord attacks Sett with a fireball ... kaboom ... 18 damage ( 20 to go).\n",
      "Dread Fxnord attacks Sneiji with a dragon fire ... zwishhhhhh ... 12 damage ( 17 to go).\n",
      "HEALTH: [('Sett', 20), ('Cosi', 54), ('Kyo', 17), ('Sneiji', 17), ('Dorn', 0), ('Maio', 33)] \n",
      "\n",
      "---the elves attack------------------------------------------\n",
      "Sett attacks Dread Fxnord with a fancy sword ... whooooosh ... 5 damage ( 275 to go).\n",
      "Cosi attacks Dread Fxnord with a basic sword ... shwinggg ... 1 damage ( 274 to go).\n",
      "Kyo attacks Dread Fxnord with a basic sword ... shwinggg ... 4 damage ( 270 to go).\n",
      "Sneiji attacks Dread Fxnord with a basic sword ... shwinggg ... 5 damage ( 265 to go).\n",
      "Maio attacks Dread Fxnord with a basic sword ... shwinggg ... 2 damage ( 263 to go).\n",
      "---the dragon attacks----------------------------------------\n",
      "Dread Fxnord casts fireball!\n",
      "Dread Fxnord attacks Cosi with a fireball ... foom ... 12 damage ( 42 to go).\n",
      "Dread Fxnord attacks Sett with a dragon fire ... kaboom ... 12 damage ( 8 to go).\n",
      "HEALTH: [('Sett', 8), ('Cosi', 42), ('Kyo', 17), ('Sneiji', 17), ('Dorn', 0), ('Maio', 33)] \n",
      "\n",
      "---the elves attack------------------------------------------\n",
      "Sett attacks Dread Fxnord with a fancy sword ... whooooosh ... 3 damage ( 260 to go).\n",
      "Cosi attacks Dread Fxnord with a basic sword ... shwinggg ... 2 damage ( 258 to go).\n",
      "Kyo attacks Dread Fxnord with a basic sword ... shwinggg ... 6 damage ( 252 to go).\n",
      "Sneiji attacks Dread Fxnord with a basic sword ... shwinggg ... 1 damage ( 251 to go).\n",
      "Maio attacks Dread Fxnord with a basic sword ... shwinggg ... 5 damage ( 246 to go).\n",
      "---the dragon attacks----------------------------------------\n",
      "Dread Fxnord casts fireball!\n",
      "Dread Fxnord attacks Sett with a fireball ... whoosh ... 22 damage ( 0 to go).\n",
      "Dread Fxnord attacks Sett with a dragon fire ... whoosh ... 11 damage ( 0 to go).\n",
      "HEALTH: [('Sett', 0), ('Cosi', 42), ('Kyo', 17), ('Sneiji', 17), ('Dorn', 0), ('Maio', 33)] \n",
      "\n",
      "---the elves attack------------------------------------------\n",
      "Cosi attacks Dread Fxnord with a basic sword ... shwinggg ... 3 damage ( 243 to go).\n",
      "Kyo attacks Dread Fxnord with a basic sword ... shwinggg ... 6 damage ( 237 to go).\n",
      "Sneiji attacks Dread Fxnord with a basic sword ... shwinggg ... 5 damage ( 232 to go).\n",
      "Maio attacks Dread Fxnord with a basic sword ... shwinggg ... 5 damage ( 227 to go).\n",
      "---the dragon attacks----------------------------------------\n",
      "Dread Fxnord attacks Maio with a dragon fire ... screeeeee ... 7 damage ( 26 to go).\n",
      "HEALTH: [('Sett', 0), ('Cosi', 42), ('Kyo', 17), ('Sneiji', 17), ('Dorn', 0), ('Maio', 26)] \n",
      "\n",
      "---the elves attack------------------------------------------\n",
      "Cosi attacks Dread Fxnord with a basic sword ... shwinggg ... 6 damage ( 221 to go).\n",
      "Kyo attacks Dread Fxnord with a basic sword ... shwinggg ... 5 damage ( 216 to go).\n",
      "Sneiji attacks Dread Fxnord with a basic sword ... shwinggg ... 2 damage ( 214 to go).\n"
     ]
    },
    {
     "name": "stdout",
     "output_type": "stream",
     "text": [
      "Maio attacks Dread Fxnord with a basic sword ... shwinggg ... 4 damage ( 210 to go).\n",
      "---the dragon attacks----------------------------------------\n",
      "Dread Fxnord attacks Maio with a dragon fire ... foom ... 12 damage ( 14 to go).\n",
      "HEALTH: [('Sett', 0), ('Cosi', 42), ('Kyo', 17), ('Sneiji', 17), ('Dorn', 0), ('Maio', 14)] \n",
      "\n",
      "---the elves attack------------------------------------------\n",
      "Cosi attacks Dread Fxnord with a basic sword ... shwinggg ... 5 damage ( 205 to go).\n",
      "Kyo attacks Dread Fxnord with a basic sword ... shwinggg ... 4 damage ( 201 to go).\n",
      "Sneiji attacks Dread Fxnord with a basic sword ... shwinggg ... 6 damage ( 195 to go).\n",
      "Maio attacks Dread Fxnord with a basic sword ... shwinggg ... 4 damage ( 191 to go).\n",
      "---the dragon attacks----------------------------------------\n",
      "Dread Fxnord attacks Maio with a dragon fire ... screeeeee ... 13 damage ( 1 to go).\n",
      "HEALTH: [('Sett', 0), ('Cosi', 42), ('Kyo', 17), ('Sneiji', 17), ('Dorn', 0), ('Maio', 1)] \n",
      "\n",
      "---the elves attack------------------------------------------\n",
      "Cosi attacks Dread Fxnord with a basic sword ... shwinggg ... 3 damage ( 188 to go).\n",
      "Kyo attacks Dread Fxnord with a basic sword ... shwinggg ... 2 damage ( 186 to go).\n",
      "Sneiji attacks Dread Fxnord with a basic sword ... shwinggg ... 5 damage ( 181 to go).\n",
      "Maio attacks Dread Fxnord with a basic sword ... shwinggg ... 3 damage ( 178 to go).\n",
      "---the dragon attacks----------------------------------------\n",
      "Dread Fxnord attacks Cosi with a dragon fire ... screeeeee ... 8 damage ( 34 to go).\n",
      "HEALTH: [('Sett', 0), ('Cosi', 34), ('Kyo', 17), ('Sneiji', 17), ('Dorn', 0), ('Maio', 1)] \n",
      "\n",
      "---the elves attack------------------------------------------\n",
      "Cosi attacks Dread Fxnord with a basic sword ... shwinggg ... 3 damage ( 175 to go).\n",
      "Kyo attacks Dread Fxnord with a basic sword ... shwinggg ... 2 damage ( 173 to go).\n",
      "Sneiji attacks Dread Fxnord with a basic sword ... shwinggg ... 5 damage ( 168 to go).\n",
      "Maio attacks Dread Fxnord with a basic sword ... shwinggg ... 1 damage ( 167 to go).\n",
      "---the dragon attacks----------------------------------------\n",
      "Dread Fxnord attacks Cosi with a dragon fire ... foom ... 8 damage ( 26 to go).\n",
      "HEALTH: [('Sett', 0), ('Cosi', 26), ('Kyo', 17), ('Sneiji', 17), ('Dorn', 0), ('Maio', 1)] \n",
      "\n",
      "---the elves attack------------------------------------------\n",
      "Cosi attacks Dread Fxnord with a basic sword ... shwinggg ... 1 damage ( 166 to go).\n",
      "Kyo attacks Dread Fxnord with a basic sword ... shwinggg ... 3 damage ( 163 to go).\n",
      "Sneiji attacks Dread Fxnord with a basic sword ... shwinggg ... 2 damage ( 161 to go).\n",
      "Maio attacks Dread Fxnord with a basic sword ... shwinggg ... 6 damage ( 155 to go).\n",
      "---the dragon attacks----------------------------------------\n",
      "Dread Fxnord attacks Maio with a dragon fire ... zwishhhhhh ... 9 damage ( 0 to go).\n",
      "HEALTH: [('Sett', 0), ('Cosi', 26), ('Kyo', 17), ('Sneiji', 17), ('Dorn', 0), ('Maio', 0)] \n",
      "\n",
      "---the elves attack------------------------------------------\n",
      "Cosi attacks Dread Fxnord with a basic sword ... shwinggg ... 1 damage ( 154 to go).\n",
      "Kyo attacks Dread Fxnord with a basic sword ... shwinggg ... 6 damage ( 148 to go).\n",
      "Sneiji attacks Dread Fxnord with a basic sword ... shwinggg ... 3 damage ( 145 to go).\n",
      "---the dragon attacks----------------------------------------\n",
      "Dread Fxnord attacks Kyo with a dragon fire ... screeeeee ... 8 damage ( 9 to go).\n",
      "HEALTH: [('Sett', 0), ('Cosi', 26), ('Kyo', 9), ('Sneiji', 17), ('Dorn', 0), ('Maio', 0)] \n",
      "\n",
      "---the elves attack------------------------------------------\n",
      "Cosi attacks Dread Fxnord with a basic sword ... shwinggg ... 3 damage ( 142 to go).\n",
      "Kyo attacks Dread Fxnord with a basic sword ... shwinggg ... 1 damage ( 141 to go).\n",
      "Sneiji attacks Dread Fxnord with a basic sword ... shwinggg ... 3 damage ( 138 to go).\n",
      "---the dragon attacks----------------------------------------\n",
      "Dread Fxnord attacks Cosi with a dragon fire ... whoosh ... 9 damage ( 17 to go).\n",
      "HEALTH: [('Sett', 0), ('Cosi', 17), ('Kyo', 9), ('Sneiji', 17), ('Dorn', 0), ('Maio', 0)] \n",
      "\n",
      "---the elves attack------------------------------------------\n",
      "Cosi attacks Dread Fxnord with a basic sword ... shwinggg ... 6 damage ( 132 to go).\n",
      "Kyo attacks Dread Fxnord with a basic sword ... shwinggg ... 1 damage ( 131 to go).\n",
      "Sneiji attacks Dread Fxnord with a basic sword ... shwinggg ... 4 damage ( 127 to go).\n",
      "---the dragon attacks----------------------------------------\n",
      "Dread Fxnord attacks Cosi with a dragon fire ... whoosh ... 14 damage ( 3 to go).\n",
      "HEALTH: [('Sett', 0), ('Cosi', 3), ('Kyo', 9), ('Sneiji', 17), ('Dorn', 0), ('Maio', 0)] \n",
      "\n",
      "---the elves attack------------------------------------------\n",
      "Cosi attacks Dread Fxnord with a basic sword ... shwinggg ... 2 damage ( 125 to go).\n",
      "Kyo attacks Dread Fxnord with a basic sword ... shwinggg ... 3 damage ( 122 to go).\n",
      "Sneiji attacks Dread Fxnord with a basic sword ... shwinggg ... 1 damage ( 121 to go).\n",
      "---the dragon attacks----------------------------------------\n",
      "Dread Fxnord attacks Sneiji with a dragon fire ... screeeeee ... 14 damage ( 3 to go).\n",
      "HEALTH: [('Sett', 0), ('Cosi', 3), ('Kyo', 9), ('Sneiji', 3), ('Dorn', 0), ('Maio', 0)] \n",
      "\n",
      "---the elves attack------------------------------------------\n",
      "Cosi attacks Dread Fxnord with a basic sword ... shwinggg ... 6 damage ( 115 to go).\n",
      "Kyo attacks Dread Fxnord with a basic sword ... shwinggg ... 1 damage ( 114 to go).\n",
      "Sneiji attacks Dread Fxnord with a basic sword ... shwinggg ... 6 damage ( 108 to go).\n",
      "---the dragon attacks----------------------------------------\n",
      "Dread Fxnord attacks Cosi with a dragon fire ... kaboom ... 11 damage ( 0 to go).\n",
      "HEALTH: [('Sett', 0), ('Cosi', 0), ('Kyo', 9), ('Sneiji', 3), ('Dorn', 0), ('Maio', 0)] \n",
      "\n",
      "---the elves attack------------------------------------------\n",
      "Kyo attacks Dread Fxnord with a basic sword ... shwinggg ... 4 damage ( 104 to go).\n",
      "Sneiji attacks Dread Fxnord with a basic sword ... shwinggg ... 2 damage ( 102 to go).\n",
      "---the dragon attacks----------------------------------------\n",
      "Dread Fxnord attacks Kyo with a dragon fire ... zwishhhhhh ... 9 damage ( 0 to go).\n",
      "HEALTH: [('Sett', 0), ('Cosi', 0), ('Kyo', 0), ('Sneiji', 3), ('Dorn', 0), ('Maio', 0)] \n",
      "\n",
      "---the elves attack------------------------------------------\n",
      "Sneiji attacks Dread Fxnord with a basic sword ... shwinggg ... 4 damage ( 98 to go).\n",
      "---the dragon attacks----------------------------------------\n",
      "Dread Fxnord attacks Sneiji with a dragon fire ... whoosh ... 10 damage ( 0 to go).\n",
      "HEALTH: [('Sett', 0), ('Cosi', 0), ('Kyo', 0), ('Sneiji', 0), ('Dorn', 0), ('Maio', 0)] \n",
      "\n",
      "Sett lies unconscious, waiting for help.\n",
      "Cosi lies unconscious, waiting for help.\n",
      "Kyo lies unconscious, waiting for help.\n",
      "Sneiji lies unconscious, waiting for help.\n",
      "Dorn lies unconscious, waiting for help.\n",
      "Maio lies unconscious, waiting for help.\n"
     ]
    }
   ],
   "source": [
    "# Sett panics and writes a function to allow an elf to engage the dragon,\n",
    "# not bothering to (a) decide whether it's better to use a spell or a\n",
    "# weapon, or (b) to make sure to use only a spell or a weapon, not both\n",
    "\n",
    "def engage(this_elf):\n",
    "    if len(this_elf['spells']) > 0:\n",
    "        return random.choice([spell for spell in this_elf['spells']])  # cast a random spell\n",
    "    else:\n",
    "        return this_elf['weapon']                                      # use a weapon\n",
    "\n",
    "# this function ACTUALLY FIGHTS THE DRAGON!\n",
    "fight_the_dragon(engage, setts_party)\n",
    "#                ^^^^^^\n",
    "#               function"
   ]
  },
  {
   "cell_type": "markdown",
   "id": "foreign-devices",
   "metadata": {},
   "source": []
  },
  {
   "cell_type": "code",
   "execution_count": null,
   "id": "interior-ministry",
   "metadata": {},
   "outputs": [],
   "source": []
  }
 ],
 "metadata": {
  "kernelspec": {
   "display_name": "Python 3",
   "language": "python",
   "name": "python3"
  },
  "language_info": {
   "codemirror_mode": {
    "name": "ipython",
    "version": 3
   },
   "file_extension": ".py",
   "mimetype": "text/x-python",
   "name": "python",
   "nbconvert_exporter": "python",
   "pygments_lexer": "ipython3",
   "version": "3.8.5"
  }
 },
 "nbformat": 4,
 "nbformat_minor": 5
}
