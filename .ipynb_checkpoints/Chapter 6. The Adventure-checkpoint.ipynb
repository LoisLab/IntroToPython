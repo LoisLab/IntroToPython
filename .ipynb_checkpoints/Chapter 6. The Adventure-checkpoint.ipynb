{
 "cells": [
  {
   "cell_type": "markdown",
   "id": "pleased-science",
   "metadata": {},
   "source": [
    "Copyright 2021 LoisLab LLC"
   ]
  },
  {
   "cell_type": "markdown",
   "id": "mathematical-projection",
   "metadata": {},
   "source": [
    "# **The Elves Encounter the Dragon**\n",
    "\n",
    "**Can they get it to fly away?**"
   ]
  },
  {
   "cell_type": "markdown",
   "id": "decimal-mercury",
   "metadata": {},
   "source": [
    "#### **How to plug functions into existing systems**\n",
    "\n",
    "Inevitably, the elves arrive and ask Fredsie for weapons. Sett brings five friends:"
   ]
  },
  {
   "cell_type": "code",
   "execution_count": null,
   "id": "recognized-generic",
   "metadata": {},
   "outputs": [],
   "source": [
    "import pandas as pd # you will learn a lot about pandas in the near future\n",
    "from adventure import *\n",
    "\n",
    "setts_party = get_the_elves()\n",
    "\n",
    "pd.DataFrame(setts_party) # this makes a legible table"
   ]
  },
  {
   "cell_type": "markdown",
   "id": "smaller-repeat",
   "metadata": {},
   "source": [
    "Sett asks Fredsie to equip the elves. Soon, you will have the chance to do that on your own. For now, follow Fredsie so that you have an example. Fredsie starts with the familiar task of fashioning a new class of Weapon which is a basic sword:"
   ]
  },
  {
   "cell_type": "code",
   "execution_count": null,
   "id": "vital-kitchen",
   "metadata": {},
   "outputs": [],
   "source": [
    "import random\n",
    "\n",
    "# Fredsie fashions a basic sword\n",
    "class BasicSword(Weapon):\n",
    "    \n",
    "    def attack(self):\n",
    "        return random.randint(1,6) # damage is 1d6 (that means: roll one six-sided die)\n",
    "    \n",
    "    def sound(self):\n",
    "        return 'shwinggg'\n",
    "    \n",
    "    def __str__(self):\n",
    "        return 'basic sword'\n",
    "    \n",
    "\n",
    "print(BasicSword())"
   ]
  },
  {
   "cell_type": "markdown",
   "id": "connected-wedding",
   "metadata": {},
   "source": [
    "Fredsie also makes a fancy sword, as a subclass of basic sword, because, programming example:"
   ]
  },
  {
   "cell_type": "code",
   "execution_count": null,
   "id": "binding-twelve",
   "metadata": {},
   "outputs": [],
   "source": [
    "# a fancy sword is a basic sword that makes a different sound\n",
    "class FancySword(BasicSword):\n",
    "    \n",
    "    def sound(self):\n",
    "        return 'whooooosh'\n",
    "    \n",
    "    def __str__(self):\n",
    "        return 'fancy sword'"
   ]
  },
  {
   "cell_type": "markdown",
   "id": "italic-manor",
   "metadata": {},
   "source": [
    "Next, Fredsie needs a way to make a weapon for a given Elf. In the future, he might want to base his weapon-making on an Elf's particular characteristics, or other weapons already provided to that Elf's companions, but for now, to keep things simple, he bases his weapon-making on the Elf's name.\n",
    "\n",
    "The adventure provides a function called <code>equip_the_elves</code>. That function requires two arguments:\n",
    "\n",
    "1. A function that equips an elf\n",
    "2. A list of Elves that need to be equipped\n",
    "\n",
    "Fredsie has the list of elves:"
   ]
  },
  {
   "cell_type": "code",
   "execution_count": null,
   "id": "improving-return",
   "metadata": {},
   "outputs": [],
   "source": [
    "type(setts_party)"
   ]
  },
  {
   "cell_type": "markdown",
   "id": "oriented-impression",
   "metadata": {},
   "source": [
    "But he needs an elf-equipping function, for example:"
   ]
  },
  {
   "cell_type": "code",
   "execution_count": null,
   "id": "front-coast",
   "metadata": {},
   "outputs": [],
   "source": [
    "# This function return a weapon for the specified elf\n",
    "def make_weapon(elf):\n",
    "    if elf['name'] == 'Sett':  # Sett gets special treatment\n",
    "        return FancySword()\n",
    "    else:\n",
    "        return BasicSword()"
   ]
  },
  {
   "cell_type": "markdown",
   "id": "animated-policy",
   "metadata": {},
   "source": [
    "Fredsie can test his function by passing it an elf, and seeing what is returned:"
   ]
  },
  {
   "cell_type": "code",
   "execution_count": null,
   "id": "devoted-prefix",
   "metadata": {},
   "outputs": [],
   "source": [
    "this_elf = setts_party[0]   # this should be Sett, he is at the top of the list\n",
    "this_elf"
   ]
  },
  {
   "cell_type": "code",
   "execution_count": null,
   "id": "hired-compilation",
   "metadata": {},
   "outputs": [],
   "source": [
    "weapon = make_weapon(this_elf)\n",
    "print(weapon)"
   ]
  },
  {
   "cell_type": "code",
   "execution_count": null,
   "id": "innocent-native",
   "metadata": {},
   "outputs": [],
   "source": [
    "this_elf = setts_party[1]   # this should be some other elf\n",
    "this_elf"
   ]
  },
  {
   "cell_type": "code",
   "execution_count": null,
   "id": "exciting-february",
   "metadata": {},
   "outputs": [],
   "source": [
    "weapon = make_weapon(this_elf)\n",
    "print(weapon)"
   ]
  },
  {
   "cell_type": "markdown",
   "id": "integrated-diversity",
   "metadata": {},
   "source": [
    "#### **How to Pass a Function to a Function**\n",
    "\n",
    "Fredsie is ready to equip the elves. To do that, he passes his function <code>make_weapon</code> to the function <code>equip_the_elves</code>, along with <code>setts_party</code>. That way, <code>equip_the_elves</code> can use <code>make_weapon</code> to create a weapon for each elf:"
   ]
  },
  {
   "cell_type": "code",
   "execution_count": null,
   "id": "orange-decimal",
   "metadata": {},
   "outputs": [],
   "source": [
    "# this function calls make_weapon once for\n",
    "# each elf in Sett's party...\n",
    "\n",
    "equip_the_elves(make_weapon, setts_party)\n",
    "#               ^^^^^^^^^^^  ^^^^^^^^^^^\n",
    "#               a function      a list"
   ]
  },
  {
   "cell_type": "markdown",
   "id": "geological-bowling",
   "metadata": {},
   "source": [
    "Now the elves are equipped, like this:"
   ]
  },
  {
   "cell_type": "code",
   "execution_count": null,
   "id": "designing-consortium",
   "metadata": {},
   "outputs": [],
   "source": [
    "pd.DataFrame(setts_party)"
   ]
  },
  {
   "cell_type": "markdown",
   "id": "latest-contrast",
   "metadata": {},
   "source": [
    "Now it is Sett's turn to write some code. He has to create the function <code>engage</code>, which takes an elf as an argument and returns either a weapon or a spell with which to engage the dragon. Here's the problem: he does not have time to include any reasonable decision-making in his function, so he panics and just guesses at a good response, which is **cast a random spell, or if you run out of spells, use your weapon.**"
   ]
  },
  {
   "cell_type": "code",
   "execution_count": null,
   "id": "arranged-queensland",
   "metadata": {},
   "outputs": [],
   "source": [
    "# Sett panics and writes a function to allow an elf to engage the dragon,\n",
    "# not bothering to (a) decide whether it's better to use a spell or a\n",
    "# weapon, or (b) to make sure to use only a spell or a weapon, not both\n",
    "\n",
    "def engage(this_elf):\n",
    "    if len(this_elf['spells']) > 0:\n",
    "        return random.choice([spell for spell in this_elf['spells']])\n",
    "    else:\n",
    "        return this_elf['weapon']\n",
    "\n",
    "fight_the_dragon(engage, setts_party)"
   ]
  },
  {
   "cell_type": "markdown",
   "id": "foreign-devices",
   "metadata": {},
   "source": []
  }
 ],
 "metadata": {
  "kernelspec": {
   "display_name": "Python 3",
   "language": "python",
   "name": "python3"
  },
  "language_info": {
   "codemirror_mode": {
    "name": "ipython",
    "version": 3
   },
   "file_extension": ".py",
   "mimetype": "text/x-python",
   "name": "python",
   "nbconvert_exporter": "python",
   "pygments_lexer": "ipython3",
   "version": "3.8.5"
  }
 },
 "nbformat": 4,
 "nbformat_minor": 5
}
