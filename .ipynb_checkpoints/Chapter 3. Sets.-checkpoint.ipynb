{
 "cells": [
  {
   "cell_type": "markdown",
   "metadata": {},
   "source": [
    "Copyright 2021 LoisLab LLC"
   ]
  },
  {
   "cell_type": "markdown",
   "metadata": {},
   "source": [
    "# **A Party of Elves**\n",
    "\n",
    "**Some things come in groups.**"
   ]
  },
  {
   "cell_type": "markdown",
   "metadata": {},
   "source": [
    "---\n",
    "\n",
    "**How to Conjure Up an Elf, or Two**\n",
    "\n",
    "Qeioros Setthereous is an elf, who goes by the nickname Sett. Sett is arranging a party of elves to travel to go and visit Fredsie. He decides to pick a party using the magic spell <code>conjure('elf')</code>, which may sound disconnected and heartless for an elf, until you remember that you are trapped in both a role playing game and a programming course. If you have begen to think of yourself as a wizard, check out the source code for conjure.\n",
    "\n",
    "Here is how Sett conjures a random elf:"
   ]
  },
  {
   "cell_type": "code",
   "execution_count": null,
   "metadata": {},
   "outputs": [],
   "source": [
    "from incantations import *    # curious about this wizardry? feel free to read incantations.py\n",
    "\n",
    "elf()"
   ]
  },
  {
   "cell_type": "markdown",
   "metadata": {},
   "source": [
    "You notice that the elf has **friends** and **spells**, which may contain one or more entries. Go back to the prior cell and conjure a few more times, and you will get the picture.\n",
    "\n",
    "What are those { } symbols around the friends and spells? The elf is a Python **dictionary** which you create using { } (remember Fredsie or your dragon), but dictionaries contain (key, value) pairs, like this:"
   ]
  },
  {
   "cell_type": "code",
   "execution_count": null,
   "metadata": {},
   "outputs": [],
   "source": [
    "key = 'color'\n",
    "value = 'blue'\n",
    "a = {key: value}\n",
    "print(a, 'has value =', a[key], 'for key =', key)"
   ]
  },
  {
   "cell_type": "markdown",
   "metadata": {},
   "source": [
    "So do the { } always mean **dictionary**? Is it possible that Python uses the very same { } symbols for two different data structures? Might that cause confusion? Are you sensing a...\n",
    "\n",
    "---\n",
    "\n",
    "**WARNING OF EXTREME DANGER (3)**\n",
    "\n",
    "\n",
    "Python uses the very same { } symbols for two different data structures, which may cause confusion.\n",
    "\n",
    "---\n",
    "\n",
    "How would Sett figure out what sort of data structure contains **friends** or **spells**? For starters, he could ask Python:\n"
   ]
  },
  {
   "cell_type": "code",
   "execution_count": null,
   "metadata": {},
   "outputs": [],
   "source": [
    "# conjure an elf\n",
    "random_elf = elf()\n",
    "random_elf"
   ]
  },
  {
   "cell_type": "code",
   "execution_count": null,
   "metadata": {},
   "outputs": [],
   "source": [
    "# what Python data type is the elf?\n",
    "type(random_elf)"
   ]
  },
  {
   "cell_type": "code",
   "execution_count": null,
   "metadata": {},
   "outputs": [],
   "source": [
    "# here are the elf's friends\n",
    "random_elf['friends']"
   ]
  },
  {
   "cell_type": "code",
   "execution_count": null,
   "metadata": {},
   "outputs": [],
   "source": [
    "# what Python data type contains the friends?\n",
    "type(random_elf['friends'])"
   ]
  },
  {
   "cell_type": "markdown",
   "metadata": {},
   "source": [
    "The friends are contained in a **set**. A set is a collection of things, stored in no particular order, in which no one thing appears more than one time. Python sets work like sets in math class. Python will construct a set using { }, as long as the contents don't have any colons (:), othwerise Python makes a dictionary.\n",
    "\n",
    "Here are some sets:"
   ]
  },
  {
   "cell_type": "code",
   "execution_count": null,
   "metadata": {},
   "outputs": [],
   "source": [
    "{1,2,3,4,5}"
   ]
  },
  {
   "cell_type": "code",
   "execution_count": null,
   "metadata": {},
   "outputs": [],
   "source": [
    "{1,1,1,2,2}"
   ]
  },
  {
   "cell_type": "code",
   "execution_count": null,
   "metadata": {},
   "outputs": [],
   "source": [
    "{'some', 'day', 'over', 'over', 'over', 'the', 'rainbow'}"
   ]
  },
  {
   "cell_type": "markdown",
   "metadata": {},
   "source": [
    "Notice that each set contains unique entries, in no particular order? That's the nature of being a set.\n",
    "\n",
    "Here is the (potentially) confusing part, one more time:"
   ]
  },
  {
   "cell_type": "code",
   "execution_count": null,
   "metadata": {},
   "outputs": [],
   "source": [
    "i_am_a_set = {'a',1,'b',2}\n",
    "i_am_a_dictionary = {'a': 1, 'b': 2}\n",
    "print(i_am_a_set, i_am_a_dictionary)"
   ]
  },
  {
   "cell_type": "markdown",
   "metadata": {},
   "source": [
    "---\n",
    "\n",
    "#### **Keeping the Peace on the Long Trip to See Fredsie**\n",
    "\n",
    "Sett has a problem. He needs to bring five elves to see Fredsie, but does not want any friends of any elves to join his party. The problem is rooted in a well-known aspect of Elven social dynamics, where one elf considers others to be his friends, but those others consider *other* elves to be *their* friends, seemingly at random. The topic is best covered in Malcom Schlotbotznik's *Probability Densities of Elven Social Clusters*, so we won't discuss it here.\n",
    "\n",
    "If Sett conjures five elves, the odds of having no friends among the party are low:"
   ]
  },
  {
   "cell_type": "code",
   "execution_count": null,
   "metadata": {},
   "outputs": [],
   "source": [
    "from incantations import *\n",
    "\n",
    "party(elf, 5)"
   ]
  },
  {
   "cell_type": "markdown",
   "metadata": {},
   "source": [
    "---\n",
    "\n",
    "\n",
    "#### **Python Supports Lists**\n",
    "\n",
    "\n",
    "Wait, how did Sett get five elves in one data structure? If you look closely, you may notice that the elves are surrounded by the symbols [ ]. In Python, [ ] is a **list**. A list is an ordered collection of things, which may nor may not contain same element more than once:"
   ]
  },
  {
   "cell_type": "code",
   "execution_count": null,
   "metadata": {},
   "outputs": [],
   "source": [
    "concerns = ['socks do no match', 'not sure if it is Tuesday', 'coffee is cold', 'puppy is too quiet']\n",
    "print(concerns)"
   ]
  },
  {
   "cell_type": "code",
   "execution_count": null,
   "metadata": {},
   "outputs": [],
   "source": [
    "concerns[2]"
   ]
  },
  {
   "cell_type": "code",
   "execution_count": null,
   "metadata": {},
   "outputs": [],
   "source": [
    "concerns[0:2]"
   ]
  },
  {
   "cell_type": "code",
   "execution_count": null,
   "metadata": {},
   "outputs": [],
   "source": [
    "concerns[-1]"
   ]
  },
  {
   "cell_type": "markdown",
   "metadata": {},
   "source": [
    "So Sett can keep a list of his party of elves, then use it in a variety of ways:"
   ]
  },
  {
   "cell_type": "code",
   "execution_count": null,
   "metadata": {},
   "outputs": [],
   "source": [
    "# conjure 5 elves\n",
    "setts_party = party(elf, 5)\n",
    "\n",
    "print('Sett conjured ', len(setts_party), 'elves')    # the len() function returns the length of a data structure"
   ]
  },
  {
   "cell_type": "code",
   "execution_count": null,
   "metadata": {},
   "outputs": [],
   "source": [
    "# here is the third elf (at position 2 in the list)\n",
    "setts_party[2]"
   ]
  },
  {
   "cell_type": "code",
   "execution_count": null,
   "metadata": {},
   "outputs": [],
   "source": [
    "# here are the third's elf's presumptive friends\n",
    "setts_party[2]['friends']"
   ]
  },
  {
   "cell_type": "markdown",
   "metadata": {},
   "source": [
    "Sett needs to check whether any of his elves consider any other to be a friend. To do that, he needs to loop over the list of elves. Python lets you do that:"
   ]
  },
  {
   "cell_type": "code",
   "execution_count": null,
   "metadata": {},
   "outputs": [],
   "source": [
    "for next_elf in setts_party:\n",
    "    print(next_elf['name'])"
   ]
  },
  {
   "cell_type": "markdown",
   "metadata": {},
   "source": [
    "Sett has a plan to detect potential Elven hurt feelings:\n",
    "```\n",
    "  make an empty 'friends' set\n",
    "\n",
    "  for each elf, check in that elf is in the 'friends' set\n",
    "    if so, panic\n",
    "    if not, add that elf's friends to the 'friends' set\n",
    "\n",
    "```"
   ]
  },
  {
   "cell_type": "code",
   "execution_count": null,
   "metadata": {},
   "outputs": [],
   "source": [
    "from incantations import *\n",
    "\n",
    "friends = set()  # this is Python for 'make an empty set'\n",
    "\n",
    "for next_elf in setts_party:\n",
    "    if next_elf['name'] in friends:\n",
    "        print('oh no! ', next_elf['name'], 'is a friend')\n",
    "        break\n",
    "    else:\n",
    "        friends = friends | next_elf['friends']   # add this elf's friends to the set of all friends\n",
    "        \n",
    "print('if Sett did not panic, he got really lucky... try conjuring a new party of elves')"
   ]
  },
  {
   "cell_type": "markdown",
   "metadata": {},
   "source": [
    "Did you notice that Sett slipped in the **|** operator? That calculates the **union** of two sets. Python includes these set operations:\n",
    "\n",
    "\n",
    "```\n",
    "\n",
    "| finds the union (what is in either A or B?)\n",
    "\n",
    "& finds the intersection (what is in both A and B?)\n",
    "\n",
    "– finds the difference (what is in A, but not B?)\n",
    "\n",
    "^ finds the symmetric difference (what is in A or B, but not both A and B?)\n",
    "\n",
    "```"
   ]
  },
  {
   "cell_type": "markdown",
   "metadata": {},
   "source": [
    "---\n",
    "\n",
    "#### **Using Brute Force Computing to Solve Problems**\n",
    "\n",
    "Sett has limited programming skills, so the thinks of a not-at-all-efficient way to conjure a group of five elves, not of whom presume any of the others to be friends. Again, Sett is using **brute force**, which means 'the simplest way to apply computing power to do a thing, regardless of whether it's wasteful'.\n",
    "\n",
    "For starters, Sett decides to create a set of the names of the elves in the party, to make it easier to check who's who:"
   ]
  },
  {
   "cell_type": "code",
   "execution_count": null,
   "metadata": {},
   "outputs": [],
   "source": [
    "from incantations import *\n",
    "\n",
    "setts_party = party(elf, 5)\n",
    "\n",
    "names = {next_elf['name'] for next_elf in setts_party}   # this is a Python set constructor, using a for loop\n",
    "\n",
    "names"
   ]
  },
  {
   "cell_type": "markdown",
   "metadata": {},
   "source": [
    "Sett plans to compare that set to the sets of friends. Sett will examine the **intersection** of the set of names with each set of friends, to count the conflicts. If the number of conflicts exceeds zero, Sett will start over. "
   ]
  },
  {
   "cell_type": "code",
   "execution_count": 14,
   "metadata": {},
   "outputs": [
    {
     "name": "stdout",
     "output_type": "stream",
     "text": [
      "here are the elves: {'Cosi', 'Dorn', 'Kyo', 'Elgin', 'Sash'}\n",
      "here are the friends: {'Candra', 'Klee', 'Sneiji', 'Meina', 'Ryo', 'Aidon', 'Zey', 'Posi', 'Maio', 'Fra', 'Elas', 'Paila', 'Ardith'}\n",
      "here are the conflicts: set()\n"
     ]
    }
   ],
   "source": [
    "from incantations import *\n",
    "\n",
    "while (True):                                                # this is Python for 'loop forever'\n",
    "    setts_party = party(elf, 5)                              # make a party of five elves\n",
    "    names = {next_elf['name'] for next_elf in setts_party}   # make a set of names in the party\n",
    "    conflicts = 0                                            # get ready to count the conflicts among friends\n",
    "    for next_elf in setts_party:                             # loop over each elf in the party\n",
    "        conflicts += len(next_elf['friends'] & names)        # add to conflicts the number of elves who are friends\n",
    "    if conflicts == 0:                                       # if there are no conflicts...\n",
    "        break                                                # ...break out of the loop\n",
    "\n",
    "print('here are the elves:', names)\n",
    "\n",
    "friends = set()                                              # make a set of all the friends of all the elves\n",
    "for next_elf in setts_party:\n",
    "    friends |= next_elf['friends']\n",
    "    \n",
    "print('here are the friends:', friends)\n",
    "\n",
    "print('here are the conflicts:', names & friends)            # this should print an empty set (no conflicts)"
   ]
  },
  {
   "cell_type": "markdown",
   "metadata": {},
   "source": [
    "---\n",
    "\n",
    "#### **Setting an Example for Sett the Elf**\n",
    "\n",
    "1. Sett's alogrithm takes hundreds (or thousands) of attempts to come up with a party of 5 elves with no conflicts. Write an algorithm that is more efficient, which finds a party with no conflicts.\n",
    "\n"
   ]
  },
  {
   "cell_type": "code",
   "execution_count": null,
   "metadata": {},
   "outputs": [],
   "source": [
    "from incantations import *\n",
    "\n",
    "# your code here"
   ]
  },
  {
   "cell_type": "markdown",
   "metadata": {},
   "source": [
    "2. Sett forgot to mention that he needs at least one elf in his party to know each possible spell. Change your algorithm to create a conflict-free party that, collectively, knows all the spells."
   ]
  },
  {
   "cell_type": "code",
   "execution_count": 15,
   "metadata": {},
   "outputs": [
    {
     "name": "stdout",
     "output_type": "stream",
     "text": [
      "['heal', 'sleep', 'invisible', 'freeze', 'fireball', 'poof', 'shadow', 'stall']\n"
     ]
    }
   ],
   "source": [
    "from incantations import *\n",
    "\n",
    "print(ELF_SPELLS)\n",
    "\n",
    "# your code here"
   ]
  },
  {
   "cell_type": "code",
   "execution_count": null,
   "metadata": {},
   "outputs": [],
   "source": []
  }
 ],
 "metadata": {
  "kernelspec": {
   "display_name": "Python 3",
   "language": "python",
   "name": "python3"
  },
  "language_info": {
   "codemirror_mode": {
    "name": "ipython",
    "version": 3
   },
   "file_extension": ".py",
   "mimetype": "text/x-python",
   "name": "python",
   "nbconvert_exporter": "python",
   "pygments_lexer": "ipython3",
   "version": "3.8.5"
  }
 },
 "nbformat": 4,
 "nbformat_minor": 2
}
