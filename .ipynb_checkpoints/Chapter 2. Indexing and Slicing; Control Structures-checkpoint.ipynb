{
 "cells": [
  {
   "cell_type": "markdown",
   "metadata": {},
   "source": [
    "Copyright 2021 LoisLab LLC"
   ]
  },
  {
   "cell_type": "markdown",
   "metadata": {},
   "source": [
    "# Runes\n",
    "\n",
    "**Hobbits have habits, not all good.**"
   ]
  },
  {
   "cell_type": "markdown",
   "metadata": {},
   "source": [
    "---\n",
    "\n",
    "#### **How to Decode a Message from Fredsie**\n",
    "\n",
    "Fredsie sends you a message by carrier raven, but he doesn't want it intercepted by goblins, so he writes it in code:\n",
    "\n",
    "*EABVMEOIWUXAWDRHCEXF WETVUHAIEIY LVEYUANLSJLTZGEBSRSENMR SKPJWAOPSRKSFC JJFLEOOGREU WUTFHHIJEAFRAJECF PQTHZHCFECB LVDSIRBXAUCGKVOAJNUM NSARPWLAAKJIMZTBJS*"
   ]
  },
  {
   "cell_type": "markdown",
   "metadata": {},
   "source": [
    "Fredsie's not the brightest bulb, so you realize that you could decode the message if you could guess Fredsie's favorite number. Your idea is this: every $n^{th}$ character of the cipher is the actual message. If you could slice the message into pieces, you would know what it says.\n",
    "\n",
    "Python has built-in support for slicing things into pieces in a great variety of ways:"
   ]
  },
  {
   "cell_type": "markdown",
   "metadata": {},
   "source": [
    "Bringing you to your second...\n",
    "\n",
    "---\n",
    "\n",
    "**WARNING OF EXTREME DANGER (2)**\n",
    "\n",
    "Computers start counting at zero, not one. If you ask a computer to count to three, it says: 0,1,2. If you have a list of ice cream flavors [vanilla, chocolate, strawberry], the computer referes to 'vanilla' as the *zero'th entry in a list of length 3.* Therein lies the danger -- a list of length 3 has three elements, but no **third** element; instead, the list has elements 0,1,2.\n",
    "\n",
    "---\n",
    "\n",
    "Python provides built-in support for **indexing** and **slicing** data. Indexing lets you find the $n^{th}$ element in a sequence of things, and slicing lets you find a subsequence:"
   ]
  },
  {
   "cell_type": "code",
   "execution_count": 1,
   "metadata": {},
   "outputs": [
    {
     "name": "stdout",
     "output_type": "stream",
     "text": [
      "fredsie\n"
     ]
    }
   ],
   "source": [
    "# print the first seven characters of a string\n",
    "\n",
    "msg = 'fredsie is a hobbit'\n",
    "print(msg[0:7])               # this says 'slice the string from 0 (inclusive) to 7 (exclusive)'"
   ]
  },
  {
   "cell_type": "code",
   "execution_count": 2,
   "metadata": {},
   "outputs": [
    {
     "data": {
      "text/plain": [
       "'Rule'"
      ]
     },
     "execution_count": 2,
     "metadata": {},
     "output_type": "execute_result"
    }
   ],
   "source": [
    "# general notation is: [start:stop:step]\n",
    "\n",
    "'Elves Rule'[-4:]"
   ]
  },
  {
   "cell_type": "markdown",
   "metadata": {},
   "source": [
    "#### **Indexing and Slicing Notation**\n",
    "\n",
    "The general notation for indexing and slicing any of three parameters (start, stop, step), more or less like this:\n",
    "\n",
    "```\n",
    "general notation is: [start:stop:step]\n",
    "\n",
    "'Elves Rule'[3]    'e'      Character at position 3 (aka, the 4th character)\n",
    "'Elves Rule'[2:5]  'ves'    Start at 2 (inclusive), stop at 5 (exclusive)\n",
    "'Elves Rule'[6:]   'Rule'   Start at 6, go until end\n",
    "'Elves Rule'[-4:]  'Rule'   Start 4 from the end, go until end\n",
    "'Elves Rule'[::2]  'EvsRl'  Every second character starting with position zero\n",
    "```"
   ]
  },
  {
   "cell_type": "code",
   "execution_count": 3,
   "metadata": {},
   "outputs": [
    {
     "name": "stdout",
     "output_type": "stream",
     "text": [
      "---indexing----------------------------------------------\n",
      "the second character is a position 1, it is a 2\n",
      "---slicing-----------------------------------------------\n",
      "the first three characters are 123\n",
      "the characters, in reverse, are 987654321\n",
      "every second character is 13579 or 2468\n"
     ]
    }
   ],
   "source": [
    "# here are a few examples of indexing and slicing... check out the web for many, many more\n",
    "\n",
    "things = '123456789'\n",
    "\n",
    "# here is an example of indexing\n",
    "print('---indexing----------------------------------------------')\n",
    "print('the second character is a position 1, it is a', things[1])\n",
    "\n",
    "# these are examples of slicing\n",
    "print('---slicing-----------------------------------------------')\n",
    "print('the first three characters are', things[0:3])\n",
    "print('the characters, in reverse, are', things[::-1])\n",
    "print('every second character is', things[::2], 'or', things[1::2])"
   ]
  },
  {
   "cell_type": "markdown",
   "metadata": {},
   "source": [
    "With that in mind, you realize that, if Fredsie's favorite number were 2, you could decode his favorite ice cream flavor either of two ways:"
   ]
  },
  {
   "cell_type": "code",
   "execution_count": 4,
   "metadata": {},
   "outputs": [
    {
     "name": "stdout",
     "output_type": "stream",
     "text": [
      "strawberry\n",
      "chocolate\n"
     ]
    }
   ],
   "source": [
    "msg = 'scthroacwobleartrey'\n",
    "favorite_number = 2\n",
    "print(msg[0::favorite_number])\n",
    "print(msg[1::favorite_number])"
   ]
  },
  {
   "cell_type": "markdown",
   "metadata": {},
   "source": [
    "So what is Fredsie trying to tell you? Assuming his favorite number is no greater than 4, and that he picked a random starting point (between one and his favorite number), change this code until the message appears:"
   ]
  },
  {
   "cell_type": "code",
   "execution_count": 9,
   "metadata": {},
   "outputs": [
    {
     "data": {
      "text/plain": [
       "'BEWARE THE EASTERN PASS FOR THERE THE DRAGON AWAITS'"
      ]
     },
     "execution_count": 9,
     "metadata": {},
     "output_type": "execute_result"
    }
   ],
   "source": [
    "msg = 'EABVMEOIWUXAWDRHCEXF WETVUHAIEIY LVEYUANLSJLTZGEBSRSENMR SKPJWAOPSRKSFC JJFLEOOGREU \\\n",
    "WUTFHHIJEAFRAJECF PQTHZHCFECB LVDSIRBXAUCGKVOAJNUM NSARPWLAAKJIMZTBJS'\n",
    "\n",
    "###############################################################\n",
    "# Change these two values to decode Fredsie's message\n",
    "\n",
    "favorite = 3   # should be 1 through 4\n",
    "start = 3      # should be 1 through <favorite number>\n",
    "\n",
    "###############################################################\n",
    "\n",
    "msg[start-1::favorite]  # see the 'minus 1'? That's because Fredsie starts counting\n",
    "                        # at one but the computer starts counting at zero."
   ]
  },
  {
   "cell_type": "markdown",
   "metadata": {},
   "source": [
    "One you have decoded that message -- don't say you weren't warned."
   ]
  },
  {
   "cell_type": "markdown",
   "metadata": {},
   "source": [
    "---\n",
    "\n",
    "#### **Using a Loop to Decode Messages.**\n",
    "\n"
   ]
  },
  {
   "cell_type": "markdown",
   "metadata": {},
   "source": [
    "Fredsie drinks coffee, tea, and ale. His favorite number varies depending on what, when, and how much he drank. That leaves you in a bind, because every time a raven shows up with a message from Fredsie, it's encoded differently. You spend way too much time guessing at what might be the favorite number and starting point for each message, then you decide to let Python do the work for you.\n",
    "\n",
    "Your goal is to try every combination of possibilities for (a) Fredsie's favorite number and (b) Fredsie's chosen starting point. Your approach is to use a **control structure** called a **for loop**. In Python, code that is contained with control structures is idented, and loops cause code to run repeatedly.\n",
    "\n",
    "Try these two examples to get an idea of how that works:"
   ]
  },
  {
   "cell_type": "code",
   "execution_count": 10,
   "metadata": {},
   "outputs": [
    {
     "name": "stdout",
     "output_type": "stream",
     "text": [
      "favorite number = 2\n",
      "favorite number = 3\n",
      "favorite number = 4\n",
      "Fredsie has been drinking (coffee)\n"
     ]
    }
   ],
   "source": [
    "# here is one example of a loop\n",
    "for favorite in range(2,5):\n",
    "    print('favorite number =', favorite)\n",
    "    \n",
    "print('Fredsie has been drinking (coffee)')"
   ]
  },
  {
   "cell_type": "code",
   "execution_count": 11,
   "metadata": {},
   "outputs": [
    {
     "name": "stdout",
     "output_type": "stream",
     "text": [
      "favorite number = 2\n",
      "Fredsie has been drinking (ale)\n",
      "favorite number = 3\n",
      "Fredsie has been drinking (ale)\n",
      "favorite number = 4\n",
      "Fredsie has been drinking (ale)\n"
     ]
    }
   ],
   "source": [
    "# and here is another\n",
    "for favorite in range(2,5):\n",
    "    print('favorite number =', favorite)\n",
    "    print('Fredsie has been drinking (ale)')"
   ]
  },
  {
   "cell_type": "markdown",
   "metadata": {},
   "source": [
    "See the difference? It's all in the spacing of the lines. In many languages, that does not matter, but in Python, it does.\n",
    "\n"
   ]
  },
  {
   "cell_type": "markdown",
   "metadata": {},
   "source": [
    "You can put loops inside of loops, so you could generate all of the possible combinations of <code>favorite</code> and <code>start</code> like this:"
   ]
  },
  {
   "cell_type": "code",
   "execution_count": 12,
   "metadata": {},
   "outputs": [
    {
     "name": "stdout",
     "output_type": "stream",
     "text": [
      "how about trying  (2, 1)\n",
      "how about trying  (2, 2)\n",
      "how about trying  (3, 1)\n",
      "how about trying  (3, 2)\n",
      "how about trying  (3, 3)\n",
      "how about trying  (4, 1)\n",
      "how about trying  (4, 2)\n",
      "how about trying  (4, 3)\n",
      "how about trying  (4, 4)\n"
     ]
    }
   ],
   "source": [
    "# no need check if 1 is Fredsie's favorite number, so try 2,3,4\n",
    "for favorite in range(2, 5):\n",
    "    for start in range(1, favorite+1):\n",
    "        print('how about trying ', (favorite, start))"
   ]
  },
  {
   "cell_type": "markdown",
   "metadata": {},
   "source": [
    "That means you could have decoded the original message by brute force, like this:"
   ]
  },
  {
   "cell_type": "code",
   "execution_count": 13,
   "metadata": {},
   "outputs": [
    {
     "name": "stdout",
     "output_type": "stream",
     "text": [
      "EBMOWXWRCX EVHII VYALJTGBREM KJAPRSCJFEORUWTHIEFAEFPTZCEBLDIBACKOJU SRWAKIZBS\n",
      "AVEIUADHEFWTUAEYLEUNSLZESSNRSPWOSKF JLOGE UFHJARJC QHHFC VSRXUGVANMNAPLAJMTJ\n",
      "EVOUWHXWVAILYNJZBSMSJORFJLOEWFIAACPHCCLSBUKAUNRLKMB\n",
      "AMIXDCFEUIYVULLGSERKWPKCJEGUUHJFJFQZFBVIXCVJMSPAJZJ\n",
      "BEWARE THE EASTERN PASS FOR THERE THE DRAGON AWAITS\n",
      "EMWWC VI YLTBE JPSJERWHEAFTCBDBCOUSWKZS\n",
      "AEUDEWUELUSZSNSWSFJOEUHAJ HF SXGAMALJT\n",
      "BOXRXEHIVAJGRMKARCFOUTIFEPZELIAKJ RAIB\n",
      "VIAHFTAYENLESRPOK LG FJRCQHCVRUVNNPAMJ\n"
     ]
    }
   ],
   "source": [
    "msg = 'EABVMEOIWUXAWDRHCEXF WETVUHAIEIY LVEYUANLSJLTZGEBSRSENMR SKPJWAOPSRKSFC JJFLEOOGREU \\\n",
    "WUTFHHIJEAFRAJECF PQTHZHCFECB LVDSIRBXAUCGKVOAJNUM NSARPWLAAKJIMZTBJS'\n",
    "\n",
    "for favorite in range(2, 5):\n",
    "    for start in range(1, favorite+1):\n",
    "        print(msg[start-1::favorite])"
   ]
  },
  {
   "cell_type": "markdown",
   "metadata": {},
   "source": [
    "See the decoded message? It's around midway through the list."
   ]
  },
  {
   "cell_type": "markdown",
   "metadata": {},
   "source": [
    "---\n",
    "\n",
    "#### **Using Conditional Logic to Make a Secret Decoder Ring**\n",
    "\n"
   ]
  },
  {
   "cell_type": "markdown",
   "metadata": {},
   "source": [
    "Reading through all the possible decoded messages gets tiresome, so you and Fredsie make a deal. From now on, every message that he sends by raven will include the text FREDSIE. That allows you to discard any attempt to decode a message that doesn't pass that test. You will do that using an **if-then** statement, which is another control structure availabe in Python.\n",
    "\n",
    "Fredsie sends you this message:"
   ]
  },
  {
   "cell_type": "code",
   "execution_count": 15,
   "metadata": {},
   "outputs": [],
   "source": [
    "msg = 'QHHTIFDHJKVEQPGRVFCEIPX UIXIJUPSOUF ONBAJAM JIRPICEAJEANGNYCGAJAIEBKEUMEXPG \\\n",
    "HPPBOSXRVKWEUVAAWJFKDGFFBIKAGMRSUXNTHDJ ETGAQLLTVDB PRDFTIJROTSEXFBDWGSSVGWIQBKEEPU\\\n",
    "SJDI JORPGEFLQYNAUHTCHJMEVEC PXDOPEMNHTS RTUSGOHUXRCNEUIDKAXANCEYYTU HHYAMTOTPRA NT\\\n",
    "EEERSLVNVEPLSVQLDEBRXN'"
   ]
  },
  {
   "cell_type": "markdown",
   "metadata": {},
   "source": [
    "You decode it like the prior message, but only print the results that include FREDSIE:"
   ]
  },
  {
   "cell_type": "code",
   "execution_count": 16,
   "metadata": {},
   "outputs": [
    {
     "name": "stdout",
     "output_type": "stream",
     "text": [
      "...thinking...\n",
      "...thinking...\n",
      "...thinking...\n",
      "...thinking...\n",
      "...thinking...\n",
      "...thinking...\n",
      "...thinking...\n",
      "...thinking...\n",
      "THERE IS A PANCAKE BREAKFAST AT FREDSIES PLACE ON SUNDAY AT ELEVEN\n"
     ]
    }
   ],
   "source": [
    "for favorite in range(2, 5):\n",
    "    for start in range(1, favorite+1):\n",
    "        decoded = msg[start-1::favorite]   # take a guess at the decoded message\n",
    "        if 'FREDSIE' in decoded:           # check if the guess includes 'FREDSIE'\n",
    "            print(decoded)\n",
    "        else:\n",
    "            print('...thinking...')"
   ]
  },
  {
   "cell_type": "markdown",
   "metadata": {},
   "source": [
    "---\n",
    "\n",
    "#### **Write a Coded Message of Your Own**\n",
    "\n",
    "Writing some Python to encode and decode a message using your own original encoding scheme. Fun fact, slicing works from left to right or right to left, allowing you to write things in reverse:"
   ]
  },
  {
   "cell_type": "code",
   "execution_count": 27,
   "metadata": {},
   "outputs": [
    {
     "name": "stdout",
     "output_type": "stream",
     "text": [
      "ereht ih\n"
     ]
    }
   ],
   "source": [
    "print('hi there'[::-1])"
   ]
  },
  {
   "cell_type": "code",
   "execution_count": 28,
   "metadata": {},
   "outputs": [],
   "source": [
    "msg = 'FREDSIE SHOULD DRINK MORE COFFEE AND LESS ALE'\n",
    "\n",
    "# your code here"
   ]
  }
 ],
 "metadata": {
  "kernelspec": {
   "display_name": "Python 3",
   "language": "python",
   "name": "python3"
  },
  "language_info": {
   "codemirror_mode": {
    "name": "ipython",
    "version": 3
   },
   "file_extension": ".py",
   "mimetype": "text/x-python",
   "name": "python",
   "nbconvert_exporter": "python",
   "pygments_lexer": "ipython3",
   "version": "3.8.5"
  }
 },
 "nbformat": 4,
 "nbformat_minor": 2
}
