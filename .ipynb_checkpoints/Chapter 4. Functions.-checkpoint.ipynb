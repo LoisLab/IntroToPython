{
 "cells": [
  {
   "cell_type": "markdown",
   "id": "separated-third",
   "metadata": {},
   "source": [
    "Copyright 2021 LoisLab LLC"
   ]
  },
  {
   "cell_type": "markdown",
   "id": "premier-singing",
   "metadata": {},
   "source": [
    "# **Toward the Eastern Pass**\n",
    "\n",
    "#### **Elves? Check. Spells? Check. Equipment...?**"
   ]
  },
  {
   "cell_type": "markdown",
   "id": "therapeutic-monkey",
   "metadata": {},
   "source": [
    "Sett thinks he should have a more general way of applying his computational powers, before he heads out into dragon country. When Sett casts a spell, he just mutters \"cure wounds\" or \"chaos bolt\". How, he wonders, would he deploy the awesome power of Python, more like the way he uses spells?\n",
    "\n",
    "As he wonders aloud, an owl perches on his window sill. The owl tilts its head and says \"who are wondering are who may be in an adventure that is also who are in a programming course.\" Sett shoos the owl away.\n",
    "\n",
    "Sett decides to try to write his own spells. In Python, those are called **functions**."
   ]
  },
  {
   "cell_type": "code",
   "execution_count": 3,
   "id": "derived-peace",
   "metadata": {},
   "outputs": [],
   "source": [
    "# Sett writes a function called shoo, to get rid of birds\n",
    "\n",
    "def shoo(bird):\n",
    "    if bird == 'owl':\n",
    "        print('Sett gets a broom and shoos away the owl')\n",
    "    elif bird == 'crow':\n",
    "        print('Sett scatters corn on his neighbor\\'s yard')\n",
    "    else:\n",
    "        print('Sett has no idea how to shoo away a', bird)\n"
   ]
  },
  {
   "cell_type": "code",
   "execution_count": 4,
   "id": "fifty-malta",
   "metadata": {},
   "outputs": [
    {
     "name": "stdout",
     "output_type": "stream",
     "text": [
      "Sett gets a broom and shoos away the owl\n"
     ]
    }
   ],
   "source": [
    "# Sett calls his function to get rid of the owl\n",
    "shoo('owl')"
   ]
  },
  {
   "cell_type": "code",
   "execution_count": 5,
   "id": "broad-history",
   "metadata": {},
   "outputs": [
    {
     "name": "stdout",
     "output_type": "stream",
     "text": [
      "Sett scatters corn on his neighbor's yard\n"
     ]
    }
   ],
   "source": [
    "# Sett calls his function to send the crow to his next-door neighbor\n",
    "shoo('crow')"
   ]
  },
  {
   "cell_type": "code",
   "execution_count": 6,
   "id": "rural-screen",
   "metadata": {},
   "outputs": [
    {
     "name": "stdout",
     "output_type": "stream",
     "text": [
      "Sett has no idea how to shoo away a ostrich\n"
     ]
    }
   ],
   "source": [
    "# Sett visits Australia\n",
    "shoo('ostrich')"
   ]
  },
  {
   "cell_type": "code",
   "execution_count": 11,
   "id": "reflected-taylor",
   "metadata": {},
   "outputs": [
    {
     "name": "stdout",
     "output_type": "stream",
     "text": [
      "Sett has no idea how to shoo away a {'name': 'fiznord', 'race': 'troll', 'description': 'unpleasant'}\n"
     ]
    }
   ],
   "source": [
    "# Sett causes a warning of extreme danger\n",
    "shoo({'name':'fiznord', 'race':'troll', 'description': 'unpleasant'})"
   ]
  },
  {
   "cell_type": "markdown",
   "id": "continental-raleigh",
   "metadata": {},
   "source": [
    "In his first attempt to write a function, Sett has stumbled into a...\n",
    "\n",
    "---\n",
    "\n",
    "**WARNING OF EXTREME DANGER (4)**\n",
    "\n",
    "In programmer-speak, Sett wrote the function **shoo** that takes the argument **bird**. Unlike some other programming languags, Python does not check the data type of the argument that you pass to a function. In this case, no real harm is done, because Sett's function is willing to try to shoo away just about anything. In other cases, passing an unexpected data type to a function can cause all sorts of amusing and destructive results.\n",
    "\n",
    "---\n",
    "\n",
    "Sett reads the warning, yawns, and goes back to what he was doing. He decides that he should be able to conjure a non-conflicting elf, which he defines as \"an elf that has not deceived himself into thinking that a specified group of other elves are his friends.\"\n",
    "\n",
    "He starts by remembering how to conjure an elf:"
   ]
  },
  {
   "cell_type": "code",
   "execution_count": 12,
   "id": "czech-confidentiality",
   "metadata": {},
   "outputs": [
    {
     "data": {
      "text/plain": [
       "{'name': 'Meina',\n",
       " 'race': 'elf',\n",
       " 'friends': {'Ardith', 'Elas', 'Posi', 'Qaio', 'Sneiji'},\n",
       " 'spells': {'fireball', 'invisible', 'poof'},\n",
       " 'height': 5.9,\n",
       " 'intelligence': 15}"
      ]
     },
     "execution_count": 12,
     "metadata": {},
     "output_type": "execute_result"
    }
   ],
   "source": [
    "from incantations import *    # curious about this wizardry? feel free to read incantations.py\n",
    "\n",
    "my_elf = elf()\n",
    "my_elf"
   ]
  },
  {
   "cell_type": "markdown",
   "id": "entertaining-inclusion",
   "metadata": {},
   "source": [
    "He then decides to write a function that takes a set of elf names as an argument, and conjures an elf that is not among that set of friends:"
   ]
  },
  {
   "cell_type": "code",
   "execution_count": 13,
   "id": "spread-thumbnail",
   "metadata": {},
   "outputs": [
    {
     "data": {
      "text/plain": [
       "{'name': 'Maio',\n",
       " 'race': 'elf',\n",
       " 'friends': {'Cosi', 'Elgin', 'Klee', 'Ryo', 'Sash'},\n",
       " 'spells': {'invisible', 'stall'},\n",
       " 'height': 3.1,\n",
       " 'intelligence': 26}"
      ]
     },
     "execution_count": 13,
     "metadata": {},
     "output_type": "execute_result"
    }
   ],
   "source": [
    "def non_conflicting_elf(names):\n",
    "    while True:                             # set up the function to try, try again, again, and again\n",
    "        next_elf = elf()                    # conjure an elf\n",
    "        if next_elf['name'] not in names:   # if the elf is not in the set of friends...\n",
    "            return next_elf                 # ...success! return the elf\n",
    "        \n",
    "non_conflicting_elf(my_elf['friends'])"
   ]
  },
  {
   "cell_type": "markdown",
   "id": "prospective-dutch",
   "metadata": {},
   "source": [
    "Sett has once again triggered a...\n",
    "\n",
    "---\n",
    "\n",
    "**WARNING OF EXTREME DANGER (5)**\n",
    "\n",
    "Take a close look at Sett's code for <code>non_conflicting_elf</code>. Imagine that Sett has conjured so many elves that all remaining possible elves present conflicts, because every remaining elf is thought to be another elf's friend. What then would happen if you called Sett's function?\n",
    "\n",
    "---\n"
   ]
  },
  {
   "cell_type": "code",
   "execution_count": null,
   "id": "accessory-marshall",
   "metadata": {},
   "outputs": [],
   "source": []
  }
 ],
 "metadata": {
  "kernelspec": {
   "display_name": "Python 3",
   "language": "python",
   "name": "python3"
  },
  "language_info": {
   "codemirror_mode": {
    "name": "ipython",
    "version": 3
   },
   "file_extension": ".py",
   "mimetype": "text/x-python",
   "name": "python",
   "nbconvert_exporter": "python",
   "pygments_lexer": "ipython3",
   "version": "3.8.5"
  }
 },
 "nbformat": 4,
 "nbformat_minor": 5
}
