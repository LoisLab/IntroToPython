{
 "cells": [
  {
   "cell_type": "markdown",
   "id": "separated-third",
   "metadata": {},
   "source": [
    "Copyright 2021 LoisLab LLC"
   ]
  },
  {
   "cell_type": "markdown",
   "id": "premier-singing",
   "metadata": {},
   "source": [
    "# **Toward the Eastern Pass**\n",
    "\n",
    "#### **Elves? Check. Spells? Check. Equipment...?**"
   ]
  },
  {
   "cell_type": "markdown",
   "id": "therapeutic-monkey",
   "metadata": {},
   "source": [
    "---\n",
    "\n",
    "**How to write a function**\n",
    "\n",
    "Sett should have a more general way of applying his computational powers, before he heads out into dragon country. As far as he knows, casting spells is easy, but using Python is difficult. When Sett casts a spell, he simply mutters something like \"cure wounds\" or \"chaos bolt\". How, he asks himself, could he deploy the awesome power of Python, more like the way he uses spells?\n",
    "\n",
    "As he wonders aloud, an owl perches on his window sill. The owl tilts its head and says \"who?\" Sett ignores the owl. The owl flutters, then says \"who, who needs an example for an adventure that seems a lot like a course in computer programming?\"\n",
    "\n",
    "Sett gets a broom an shoos the owl away.\n",
    "\n",
    "Sett decides to try to write his own spells, starting with <code>shoo</code>, to take care of intrusive owls. In Python, those spells are called **functions**."
   ]
  },
  {
   "cell_type": "code",
   "execution_count": null,
   "id": "derived-peace",
   "metadata": {},
   "outputs": [],
   "source": [
    "# Sett writes a function called shoo, to get rid of birds\n",
    "\n",
    "def shoo(bird):  # 'def' means 'define', as in: add something new to Python\n",
    "    if bird == 'owl':\n",
    "        print('Sett gets a broom and shoos away the owl')\n",
    "    elif bird == 'crow':\n",
    "        print('Sett scatters corn on his neighbor\\'s yard')\n",
    "    else:\n",
    "        print('Sett has no idea how to shoo away a', bird)\n"
   ]
  },
  {
   "cell_type": "code",
   "execution_count": null,
   "id": "fifty-malta",
   "metadata": {},
   "outputs": [],
   "source": [
    "# Sett calls his function to get rid of the owl\n",
    "shoo('owl')"
   ]
  },
  {
   "cell_type": "code",
   "execution_count": null,
   "id": "broad-history",
   "metadata": {},
   "outputs": [],
   "source": [
    "# Sett calls his function to send the crow to his next-door neighbor\n",
    "shoo('crow')"
   ]
  },
  {
   "cell_type": "code",
   "execution_count": null,
   "id": "rural-screen",
   "metadata": {},
   "outputs": [],
   "source": [
    "# Sett visits Australia\n",
    "shoo('ostrich')"
   ]
  },
  {
   "cell_type": "code",
   "execution_count": null,
   "id": "reflected-taylor",
   "metadata": {},
   "outputs": [],
   "source": [
    "# Sett causes a warning of extreme danger\n",
    "shoo({'name':'fiznord', 'race':'troll', 'description': 'unpleasant'})"
   ]
  },
  {
   "cell_type": "markdown",
   "id": "continental-raleigh",
   "metadata": {},
   "source": [
    "In his first attempt to write a function, Sett has stumbled into a...\n",
    "\n",
    "---\n",
    "\n",
    "**WARNING OF EXTREME DANGER (4)**\n",
    "\n",
    "In programmer-speak, Sett wrote the function **shoo** that takes the argument **bird**. You can see that, because he defined the function on the first line: <code>def shoo(bird)</code>. Unlike some other programming languags, Python does not check the data type of the argument that you pass to a function. In this case, no real harm is done, because Sett's function is willing to try to shoo away just about anything. In other cases, passing an unexpected data type to a function can cause all sorts of amusing and destructive results.\n",
    "\n",
    "---\n",
    "\n",
    "Sett reads the warning, yawns, and goes back to what he was doing. He decides that he should be able to conjure a non-conflicting elf, which he defines as \"an elf that is not a member of the group of elves thought to be friends by other elves.\"\n",
    "\n",
    "He starts by remembering how to conjure an elf:"
   ]
  },
  {
   "cell_type": "code",
   "execution_count": null,
   "id": "czech-confidentiality",
   "metadata": {},
   "outputs": [],
   "source": [
    "from incantations import *\n",
    "\n",
    "elf()"
   ]
  },
  {
   "cell_type": "markdown",
   "id": "entertaining-inclusion",
   "metadata": {},
   "source": [
    "He decides to write a function that takes a set of elf names as an argument (those will be elves thought of as friends by the others in the party). Sett's goat is to conjure an elf that is not among that set of friends:"
   ]
  },
  {
   "cell_type": "code",
   "execution_count": null,
   "id": "spread-thumbnail",
   "metadata": {},
   "outputs": [],
   "source": [
    "def non_conflicting_elf(friends):\n",
    "    while True:                               # set up the function to try, try again, again, and again\n",
    "        next_elf = elf()                      # conjure an elf\n",
    "        if next_elf['name'] not in friends:   # if the elf is not in the set of friends...\n",
    "            return next_elf                   # ...success! return the elf"
   ]
  },
  {
   "cell_type": "markdown",
   "id": "prospective-dutch",
   "metadata": {},
   "source": [
    "Before you give that a try, be afraid! Sett has once again triggered a...\n",
    "\n",
    "---\n",
    "\n",
    "**WARNING OF EXTREME DANGER (5)**\n",
    "\n",
    "Take a close look at Sett's code for <code>non_conflicting_elf</code>. Imagine that Sett has conjured so many elves that all remaining possible elves present conflicts, because every remaining elf is thought to be another elf's friend. What then would happen if you called Sett's function? Or: how old would Sett be, when the function stopped running?\n",
    "\n",
    "---\n",
    "\n",
    "Don't say you were not warned."
   ]
  },
  {
   "cell_type": "markdown",
   "id": "primary-banana",
   "metadata": {},
   "source": [
    "---\n",
    "\n",
    "#### **Functions can call functions (can call functions (can call...))**\n",
    "\n",
    "To get his party together, all Sett needs to do in to conjure five non-conflicting elves, making sure not to include the same elf more than once.\n",
    "\n",
    "He starts with the function <code>get_friends</code> to return the set of friends for a list of elves:"
   ]
  },
  {
   "cell_type": "code",
   "execution_count": 17,
   "id": "convertible-phrase",
   "metadata": {},
   "outputs": [],
   "source": [
    "def get_friends(elves):\n",
    "    friends = set()\n",
    "    for next_elf in elves:\n",
    "        friends |= next_elf['friends']  # remember, the | operator is the union of sets,\n",
    "                                        # so the |= operator means 'replace friends with the\n",
    "                                        # union of (a) itself and (b) next elf's friends'\n",
    "    return friends"
   ]
  },
  {
   "cell_type": "code",
   "execution_count": 16,
   "id": "considered-halifax",
   "metadata": {},
   "outputs": [
    {
     "data": {
      "text/plain": [
       "{'Aidon',\n",
       " 'Bre',\n",
       " 'Candra',\n",
       " 'Dorn',\n",
       " 'Elas',\n",
       " 'Elgin',\n",
       " 'Fra',\n",
       " 'Klee',\n",
       " 'Kyo',\n",
       " 'Meina',\n",
       " 'Paila',\n",
       " 'Posi',\n",
       " 'Qaio',\n",
       " 'Ryo',\n",
       " 'Sash',\n",
       " 'Zey'}"
      ]
     },
     "execution_count": 16,
     "metadata": {},
     "output_type": "execute_result"
    }
   ],
   "source": [
    "# give it a try...\n",
    "get_friends(party(elf, 5))"
   ]
  },
  {
   "cell_type": "markdown",
   "id": "genuine-designer",
   "metadata": {},
   "source": [
    "Next, he decides to create a function <code>belongs_with</code> that determines if an elf belongs with other elves. His new function is a **boolean function**, meaning: it returns **True** or **False**.\n",
    "\n",
    "Here are a few boolean expressions, to get you started:"
   ]
  },
  {
   "cell_type": "code",
   "execution_count": 18,
   "id": "russian-honolulu",
   "metadata": {},
   "outputs": [
    {
     "data": {
      "text/plain": [
       "True"
      ]
     },
     "execution_count": 18,
     "metadata": {},
     "output_type": "execute_result"
    }
   ],
   "source": [
    "1 > 0"
   ]
  },
  {
   "cell_type": "code",
   "execution_count": 19,
   "id": "indian-juice",
   "metadata": {},
   "outputs": [
    {
     "data": {
      "text/plain": [
       "False"
      ]
     },
     "execution_count": 19,
     "metadata": {},
     "output_type": "execute_result"
    }
   ],
   "source": [
    "3 == 2"
   ]
  },
  {
   "cell_type": "code",
   "execution_count": 20,
   "id": "historical-train",
   "metadata": {},
   "outputs": [
    {
     "data": {
      "text/plain": [
       "True"
      ]
     },
     "execution_count": 20,
     "metadata": {},
     "output_type": "execute_result"
    }
   ],
   "source": [
    "len('dog') >= len('cat')"
   ]
  },
  {
   "cell_type": "markdown",
   "id": "connected-supervisor",
   "metadata": {},
   "source": [
    "And here is Sett's idea for the function <code>belongs_with</code>:"
   ]
  },
  {
   "cell_type": "code",
   "execution_count": 43,
   "id": "smart-quarterly",
   "metadata": {},
   "outputs": [],
   "source": [
    "from incantations import *\n",
    "\n",
    "def belongs_with(this_elf, other_elves):\n",
    "    party_names = {next_elf['name'] for next_elf in other_elves}\n",
    "    already_here = this_elf['name'] in party_names  \n",
    "    friends = get_friends(other_elves)        # look! you can call your function from within your function                 \n",
    "    am_a_friend = this_elf['name'] in friends \n",
    "    a_friend_in_common = len(this_elf['friends'] & friends) > 0\n",
    "    return not(already_here or am_a_friend or a_friend_in_common)   # check that all conflicts are False"
   ]
  },
  {
   "cell_type": "code",
   "execution_count": 69,
   "id": "lightweight-prince",
   "metadata": {},
   "outputs": [
    {
     "name": "stdout",
     "output_type": "stream",
     "text": [
      "===A PARTY ELVES=====================================\n",
      "['Sneiji', 'Kyo', 'Elas']\n",
      "===ALL OF THEIR FRIENDS==============================\n",
      "{'Kyo', 'Klee', 'Bre', 'Dorn', 'Posi', 'Sash', 'Sneiji', 'Fra', 'Elgin', 'Maio', 'Qaio', 'Meina'}\n",
      "Aidon belongs in the party, friends are {'Ryo', 'Zey', 'Candra', 'Paila'}\n"
     ]
    }
   ],
   "source": [
    "# print the elves in the test party\n",
    "test_party = party(elf, 3)\n",
    "print('===A PARTY ELVES=====================================')\n",
    "print([next_elf['name'] for next_elf in test_party])\n",
    "\n",
    "# print the friends of the test party\n",
    "print('===ALL OF THEIR FRIENDS==============================')\n",
    "print(get_friends(test_party))\n",
    "\n",
    "# conjure test elves repeatedly until you find one that belongs with the party\n",
    "test_elf = elf()\n",
    "while not belongs_with(test_elf, test_party):\n",
    "    test_elf = elf()\n",
    "\n",
    "# does the test elf belong in the party?\n",
    "if belongs_with(test_elf, test_party):\n",
    "    print(test_elf['name'], 'belongs in the party, friends are', test_elf['friends'])\n",
    "else:\n",
    "    print('you need to try again')"
   ]
  },
  {
   "cell_type": "markdown",
   "id": "essential-poultry",
   "metadata": {},
   "source": [
    "Now Sett has the pieces he needs to conjure five non-conflicting elves:"
   ]
  },
  {
   "cell_type": "code",
   "execution_count": 72,
   "id": "documented-drinking",
   "metadata": {},
   "outputs": [
    {
     "data": {
      "text/plain": [
       "[{'name': 'Ardith',\n",
       "  'race': 'elf',\n",
       "  'friends': {'Aidon', 'Bre', 'Fra', 'Sash'},\n",
       "  'spells': {'freeze', 'invisible', 'poof'},\n",
       "  'height': 4.1,\n",
       "  'intelligence': 25},\n",
       " {'name': 'Meina',\n",
       "  'race': 'elf',\n",
       "  'friends': {'Ardith', 'Dorn', 'Elas', 'Klee', 'Sneiji'},\n",
       "  'spells': {'freeze', 'shadow', 'sleep'},\n",
       "  'height': 4.6,\n",
       "  'intelligence': 38},\n",
       " {'name': 'Cosi',\n",
       "  'race': 'elf',\n",
       "  'friends': {'Candra', 'Elgin', 'Posi', 'Qaio', 'Ryo'},\n",
       "  'spells': {'heal', 'stall'},\n",
       "  'height': 4.5,\n",
       "  'intelligence': 33},\n",
       " {'name': 'Zey',\n",
       "  'race': 'elf',\n",
       "  'friends': {'Kyo', 'Meina', 'Paila'},\n",
       "  'spells': {'freeze', 'invisible', 'stall'},\n",
       "  'height': 3.0,\n",
       "  'intelligence': 33},\n",
       " {'name': 'Maio',\n",
       "  'race': 'elf',\n",
       "  'friends': {'Cosi', 'Zey'},\n",
       "  'spells': {'heal', 'poof'},\n",
       "  'height': 4.0,\n",
       "  'intelligence': 40}]"
      ]
     },
     "execution_count": 72,
     "metadata": {},
     "output_type": "execute_result"
    }
   ],
   "source": [
    "from incantations import *\n",
    "\n",
    "def conjure_five_compatible_elves():\n",
    "    elf_party = []\n",
    "    while len(elf_party) < 5:\n",
    "        next_elf = elf()\n",
    "        while not belongs_with(next_elf, elf_party):\n",
    "            next_elf = elf()\n",
    "        elf_party.append(next_elf)\n",
    "\n",
    "    return elf_party\n",
    "\n",
    "# this make take a little while... elves are rife with conflict\n",
    "conjure_five_compatible_elves()"
   ]
  }
 ],
 "metadata": {
  "kernelspec": {
   "display_name": "Python 3",
   "language": "python",
   "name": "python3"
  },
  "language_info": {
   "codemirror_mode": {
    "name": "ipython",
    "version": 3
   },
   "file_extension": ".py",
   "mimetype": "text/x-python",
   "name": "python",
   "nbconvert_exporter": "python",
   "pygments_lexer": "ipython3",
   "version": "3.8.5"
  }
 },
 "nbformat": 4,
 "nbformat_minor": 5
}
