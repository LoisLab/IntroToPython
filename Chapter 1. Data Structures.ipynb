{
 "cells": [
  {
   "cell_type": "markdown",
   "metadata": {},
   "source": [
    "Copyright 2021 LoisLab"
   ]
  },
  {
   "cell_type": "markdown",
   "metadata": {},
   "source": [
    "# **The Dragon Awaits**\n",
    "\n",
    "**Learn Python through a role-playing game, because, dwarves.**"
   ]
  },
  {
   "cell_type": "markdown",
   "metadata": {},
   "source": [
    "---\n",
    "\n",
    "#### **How to run Python code**\n",
    "\n",
    "In the toolbar (above) there is a **play** button shaped like this: **>**.\n",
    "\n",
    "Select the cell, below, and press the button once:"
   ]
  },
  {
   "cell_type": "code",
   "execution_count": null,
   "metadata": {},
   "outputs": [],
   "source": [
    "print('...taht tog uoy tiaw ho ...rabloot eht no pu nottub yalp eht dnif ,ti nur ot -- edoc nohtyP si siht'[::-1])"
   ]
  },
  {
   "cell_type": "markdown",
   "metadata": {},
   "source": [
    "Did you run the code?\n",
    "\n",
    "Good. Try changing the code and running it again. Change the red part... that is the text that gets printed. Take this one piece of advice, and apply it everywhere you go: *always change the code*.\n",
    "\n",
    "Once you realize that you can change the code, it's on to the adventure."
   ]
  },
  {
   "cell_type": "markdown",
   "metadata": {},
   "source": [
    "---\n",
    "\n",
    "#### **How to meet Fredsie the Hobbit**\n",
    "\n",
    "You are going to learn Python as part of a role-playing game. Without Python, you will be no match for dragons and orcs. You will need to write code to get the computer to come alive. How else would you encounter an annoying hobbit? Or get the inevitable series of really bad rolls on a 20-sided die?\n",
    "\n",
    "Let's start with the hobbit. In Python, you can assign **values** to **variables**, like this:"
   ]
  },
  {
   "cell_type": "code",
   "execution_count": null,
   "metadata": {},
   "outputs": [],
   "source": [
    "hobbit_height = 3"
   ]
  },
  {
   "cell_type": "markdown",
   "metadata": {},
   "source": [
    "Python remembers everything that you do.\n",
    "\n",
    "If you run the code (above), Python will remember that <code>hobbit_height</code> equals 3. If you don't run the code, Python won't know how tall is the hobbit. Trying running this next line of code, to see if Python knows about the hobbit:"
   ]
  },
  {
   "cell_type": "code",
   "execution_count": null,
   "metadata": {},
   "outputs": [],
   "source": [
    "print('the hobbit is', hobbit_height, 'feet tall')"
   ]
  },
  {
   "cell_type": "markdown",
   "metadata": {},
   "source": [
    "If Python knows that the hobbit is 3 feet tall, you can proceed. If you got an error, go back and run the prior two code cells, one at a time, in order.\n",
    "\n",
    "You can remember as many things about the hobbit as you choose:"
   ]
  },
  {
   "cell_type": "code",
   "execution_count": null,
   "metadata": {},
   "outputs": [],
   "source": [
    "hobbit_name = 'Fredsie'\n",
    "hobbit_intelligence = 11\n",
    "hobbit_strength = 4"
   ]
  },
  {
   "cell_type": "code",
   "execution_count": null,
   "metadata": {},
   "outputs": [],
   "source": [
    "print(hobbit_name, 'has intelligence of ', hobbit_intelligence)\n",
    "print(hobbit_name, 'has strength of ', hobbit_strength)"
   ]
  },
  {
   "cell_type": "markdown",
   "metadata": {},
   "source": [
    "Now you know a handful of things about Fredsie the hobbit. Later on, you might want to know dozens of things about Fredsie. Python provides several built-in **data structures** to help you keep track of things, so you don't wind up with dozens of variables all called *hobbit-this...* or *hobbit-that*. These data structures are a key strength of Python, because the deeper you go into the forest, the more things about Fredsie you might need to know. Soon, you might have a whole party of hobbits You wouldn't send Fredsie into the forest alone, would you?\n",
    "\n",
    "OK, maybe you would. That's up to you.\n",
    "\n",
    "Back to data structures: let's represent Fredsie using a Python **dictionary**, which allows us to remember countless things (called **values**), each with its own label (called a **key**):"
   ]
  },
  {
   "cell_type": "code",
   "execution_count": null,
   "metadata": {},
   "outputs": [],
   "source": [
    "hobbit = {}                  # this makes an empty dictionary\n",
    "hobbit['name'] = 'Fredsie'   # you associate 'name' with 'Fredsie'\n",
    "hobbit['intelligence'] = 11  # then strength...\n",
    "hobbit['strength'] = 4       # then intelligence..\n",
    "print(hobbit)"
   ]
  },
  {
   "cell_type": "markdown",
   "metadata": {},
   "source": [
    "Each value has a **data type**. Python keeps track of data types for you, based on your input. If you need to know the data type of a value, you can ask Python by using the built-in function <code>type()</code>:"
   ]
  },
  {
   "cell_type": "code",
   "execution_count": null,
   "metadata": {},
   "outputs": [],
   "source": [
    "print(type(hobbit))"
   ]
  },
  {
   "cell_type": "code",
   "execution_count": null,
   "metadata": {},
   "outputs": [],
   "source": [
    "print(type(hobbit['name']))"
   ]
  },
  {
   "cell_type": "code",
   "execution_count": null,
   "metadata": {},
   "outputs": [],
   "source": [
    "print(type(hobbit['intelligence']))"
   ]
  },
  {
   "cell_type": "markdown",
   "metadata": {},
   "source": [
    "To translate: **hobbit** is a **dictionary** (dict), the hobbit's **name** is a **string** of text (str), and the hobbit's **intelligence** is an **integer** (int). Python supports other types. You will encounter those somewhere deep in the forest."
   ]
  },
  {
   "cell_type": "markdown",
   "metadata": {},
   "source": [
    "For now, you can use a dictionary to keep track of Fredsie, and add values as needed, or change existing values, depending on how things go:"
   ]
  },
  {
   "cell_type": "code",
   "execution_count": null,
   "metadata": {},
   "outputs": [],
   "source": [
    "'''\n",
    "Let's give Fredsie some health, which may go up or down...\n",
    "'''\n",
    "hobbit['health'] = 33\n",
    "print(hobbit['name'],'is feeling great, his health is', hobbit['health'])\n",
    "\n",
    "print(hobbit['name'],'stubs his toe and loses one health...')\n",
    "hobbit['health'] = hobbit['health'] - 1\n",
    "\n",
    "print('now', hobbit['name'],'has health of', hobbit['health'])"
   ]
  },
  {
   "cell_type": "markdown",
   "metadata": {},
   "source": [
    "---\n",
    "\n",
    "#### **Python does the same thing different ways, sometimes**\n",
    "\n",
    "Like all programming languages, Python lets you do the same thing more than one way. If you are just getting started, that can be confusing. Consider the following examples: the effect of the code is the same, but the details are different. Take a look:"
   ]
  },
  {
   "cell_type": "code",
   "execution_count": null,
   "metadata": {},
   "outputs": [],
   "source": [
    "print(hobbit['name'], 'eats a lotus flower')\n",
    "hobbit['health'] = hobbit['health'] + 10      # you have seen this sort of thing before...\n",
    "hobbit['state of mind'] = 'apathetic'         # ...and this, too...\n",
    "print(hobbit)"
   ]
  },
  {
   "cell_type": "code",
   "execution_count": null,
   "metadata": {},
   "outputs": [],
   "source": [
    "print(hobbit['name'], 'eats another lotus flower')\n",
    "hobbit['health'] += 10                              # wait, what's with the += ?\n",
    "hobbit['state of mind'] += ' and semi-concious'     # ...there it is again...\n",
    "print(hobbit)"
   ]
  },
  {
   "cell_type": "markdown",
   "metadata": {},
   "source": [
    "Can you guess what the += operator does, in Python?\n",
    "\n",
    "It says 'increment a variable by this amount'. For a number, it's just a shorthand way to increment the value of a variable: <code>a+=10</code> means 'increment the value of <code>a</code> by <code>10</code>.\n",
    "\n",
    "Did you notice what happens when you add a string to a string?"
   ]
  },
  {
   "cell_type": "code",
   "execution_count": null,
   "metadata": {},
   "outputs": [],
   "source": [
    "a = 'this is a string'\n",
    "b = ' that keeps going and going.'\n",
    "print(a + b)"
   ]
  },
  {
   "cell_type": "markdown",
   "metadata": {},
   "source": [
    "For strings, the + or += operators **concatentate** the values, bringing you to your first...\n",
    "\n",
    "---\n",
    "\n",
    "**WARNING OF EXTREME DANGER (1)**\n",
    "\n",
    "Python treats data structures in the way that Python thinks is most likely to succeed. Python is optimistic, or maybe even a little ambitious, but ambition can lead to unintended consequences. If something strange happens, consider the possibility that Python is being too helpful, and has switched things around in an unintended way.\n",
    "\n",
    "---\n",
    "\n",
    "Consider the plight of the variable <code>a</code>, which starts out as an integer:"
   ]
  },
  {
   "cell_type": "code",
   "execution_count": null,
   "metadata": {},
   "outputs": [],
   "source": [
    "a = 3\n",
    "print('a has the value', a, 'of type', type(a))"
   ]
  },
  {
   "cell_type": "code",
   "execution_count": null,
   "metadata": {},
   "outputs": [],
   "source": [
    "a += 1.1\n",
    "print('a has the value', a, 'of type', type(a))"
   ]
  },
  {
   "cell_type": "markdown",
   "metadata": {},
   "source": [
    "Float?\n",
    "\n",
    "The variable <code>a</code> somehow changed from an integer to a floating-point number, all by itself. Not necessarily a bad thing, but as you will see later on, knowing that Python makes up its own mind about data types is important. It's like a dungeon master that does what you say, but only if you ask carefully:"
   ]
  },
  {
   "cell_type": "code",
   "execution_count": null,
   "metadata": {},
   "outputs": [],
   "source": [
    "# these may look like numbers, but they are strings:\n",
    "a = '3'\n",
    "b = '4'\n",
    "print(a + b, '<- yikes')"
   ]
  },
  {
   "cell_type": "code",
   "execution_count": null,
   "metadata": {},
   "outputs": [],
   "source": [
    "# hey Python, what data type is 'a'?\n",
    "print(type(a))"
   ]
  },
  {
   "cell_type": "code",
   "execution_count": null,
   "metadata": {},
   "outputs": [],
   "source": [
    "# oh, sorry, please make 'a' and 'b' into integers\n",
    "x = int(a)\n",
    "y = int(b)\n",
    "print(x + y, '<- OK')"
   ]
  },
  {
   "cell_type": "markdown",
   "metadata": {},
   "source": [
    "---\n",
    "\n",
    "#### **Enter the Dragon**"
   ]
  },
  {
   "cell_type": "markdown",
   "metadata": {},
   "source": [
    "Now it's your turn to write some code on your own. Conjure up a dragon, using a Python dictionary. When you are done, the test code should print something that makes sense."
   ]
  },
  {
   "cell_type": "code",
   "execution_count": null,
   "metadata": {},
   "outputs": [],
   "source": [
    "# Your code goes here -- conjure up a dragon\n",
    "\n",
    "dragon = {}\n",
    "\n"
   ]
  },
  {
   "cell_type": "code",
   "execution_count": null,
   "metadata": {},
   "outputs": [],
   "source": [
    "# test code -- run this after you run your code (or before, to see how errors are reported in Python)\n",
    "\n",
    "print('the dragon is called', dragon['name'])\n",
    "print('it has a fireball that does', dragon['fireball'], 'damage')\n",
    "print('and it knows this terrible spell:', dragon['terrible spell'])"
   ]
  }
 ],
 "metadata": {
  "kernelspec": {
   "display_name": "Python 3",
   "language": "python",
   "name": "python3"
  },
  "language_info": {
   "codemirror_mode": {
    "name": "ipython",
    "version": 3
   },
   "file_extension": ".py",
   "mimetype": "text/x-python",
   "name": "python",
   "nbconvert_exporter": "python",
   "pygments_lexer": "ipython3",
   "version": "3.8.3"
  }
 },
 "nbformat": 4,
 "nbformat_minor": 5
}
