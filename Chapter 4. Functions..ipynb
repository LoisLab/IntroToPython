{
 "cells": [
  {
   "cell_type": "markdown",
   "metadata": {},
   "source": [
    "Copyright 2021 LoisLab LLC"
   ]
  },
  {
   "cell_type": "markdown",
   "metadata": {},
   "source": [
    "# **Toward the Eastern Pass**\n",
    "\n",
    "#### **Conjuring spells (called \"functions\").**"
   ]
  },
  {
   "cell_type": "markdown",
   "metadata": {},
   "source": [
    "---\n",
    "\n",
    "**How to write a function**\n",
    "\n",
    "Sett should have a more general way of applying his computational powers, before he heads out into dragon country. As far as he knows, casting spells is easy, but using Python is difficult. When Sett casts a spell, he simply mutters something like \"cure wounds\" or \"chaos bolt\". How, he asks himself, could he deploy the awesome power of Python, more like the way he uses spells?\n",
    "\n",
    "As he wonders aloud, an owl perches on his window sill. The owl tilts its head and says \"who?\" Sett ignores the owl. The owl flutters, then says \"who, who needs an example for an adventure that seems a lot like a course in computer programming?\"\n",
    "\n",
    "Sett gets a broom an shoos the owl away.\n",
    "\n",
    "Sett decides to try to write his own spells, starting with <code>shoo</code>, to take care of intrusive owls. In Python, those spells are called **functions**."
   ]
  },
  {
   "cell_type": "code",
   "execution_count": null,
   "metadata": {},
   "outputs": [],
   "source": [
    "# Sett writes a function called shoo, to get rid of birds\n",
    "\n",
    "def shoo(bird):  # 'def' means 'define', as in: add something new to Python\n",
    "    if bird == 'owl':\n",
    "        print('Sett gets a broom and shoos away the owl')\n",
    "    elif bird == 'crow':\n",
    "        print('Sett scatters corn on his neighbor\\'s yard')\n",
    "    else:\n",
    "        print('Sett has no idea how to shoo away a', bird)\n"
   ]
  },
  {
   "cell_type": "code",
   "execution_count": null,
   "metadata": {},
   "outputs": [],
   "source": [
    "# Sett calls his function to get rid of the owl\n",
    "shoo('owl')"
   ]
  },
  {
   "cell_type": "code",
   "execution_count": null,
   "metadata": {},
   "outputs": [],
   "source": [
    "# Sett calls his function to send the crow to his next-door neighbor\n",
    "shoo('crow')"
   ]
  },
  {
   "cell_type": "code",
   "execution_count": null,
   "metadata": {},
   "outputs": [],
   "source": [
    "# Sett visits Australia\n",
    "shoo('ostrich')"
   ]
  },
  {
   "cell_type": "code",
   "execution_count": null,
   "metadata": {},
   "outputs": [],
   "source": [
    "# Sett causes a warning of extreme danger\n",
    "shoo({'name':'fiznord', 'race':'troll', 'description': 'unpleasant'})"
   ]
  },
  {
   "cell_type": "markdown",
   "metadata": {},
   "source": [
    "In his first attempt to write a function, Sett has stumbled into a...\n",
    "\n",
    "---\n",
    "\n",
    "**WARNING OF EXTREME DANGER (4)**\n",
    "\n",
    "In programmer-speak, Sett wrote the function **shoo** that takes the argument **bird**. You can see that, because he defined the function on the first line: <code>def shoo(bird)</code>. Unlike some other programming languags, Python does not check the data type of the argument that you pass to a function. In this case, no real harm is done, because Sett's function is willing to try to shoo away just about anything. In other cases, passing an unexpected data type to a function can cause all sorts of amusing and destructive results.\n",
    "\n",
    "---\n",
    "\n",
    "Sett reads the warning, yawns, and goes back to what he was doing. He decides that he should be able to conjure a non-conflicting elf, which he defines as \"an elf that is not a member of the group of elves thought to be friends by other elves.\"\n",
    "\n",
    "He starts by remembering how to conjure an elf:"
   ]
  },
  {
   "cell_type": "code",
   "execution_count": 1,
   "metadata": {},
   "outputs": [
    {
     "data": {
      "text/plain": [
       "{'name': 'Elas',\n",
       " 'race': 'elf',\n",
       " 'friends': {'Ardith', 'Bre', 'Kyo', 'Meina'},\n",
       " 'spells': {'heal', 'poof', 'stall'},\n",
       " 'height': 3.2,\n",
       " 'health': 41,\n",
       " 'intelligence': 34}"
      ]
     },
     "execution_count": 1,
     "metadata": {},
     "output_type": "execute_result"
    }
   ],
   "source": [
    "from incantations import *\n",
    "\n",
    "elf()"
   ]
  },
  {
   "cell_type": "markdown",
   "metadata": {},
   "source": [
    "He decides to write a function that takes a set of elf names as an argument (those will be elves already in the part, or elves thought of as friends by the others in the party). Sett's goal is to conjure an elf that is not among that set of elves:"
   ]
  },
  {
   "cell_type": "code",
   "execution_count": 11,
   "metadata": {},
   "outputs": [],
   "source": [
    "def non_conflicting_elf(conflicts):\n",
    "    '''\n",
    "    The argument 'conflicts' is a dict containing party members and friends to be avoided at all cost.\n",
    "    '''\n",
    "    while True:\n",
    "        next_elf = elf()\n",
    "        already_in_party = {next_elf['name']} & conflicts['members']\n",
    "        is_a_friend = {next_elf['name']} & conflicts['friends']             # the intersection of next_elf and conflicts\n",
    "        has_friends_in_common = next_elf['friends'] & conflicts['members']  # the intersection of friends and conflicts\n",
    "        if len(is_a_friend)+len(has_friends_in_common)+len(already_in_party) == 0:\n",
    "            return next_elf "
   ]
  },
  {
   "cell_type": "markdown",
   "metadata": {},
   "source": [
    "Before you give that a try, be afraid! Sett has once again triggered a...\n",
    "\n",
    "---\n",
    "\n",
    "**WARNING OF EXTREME DANGER (5)**\n",
    "\n",
    "Take a close look at Sett's code for <code>non_conflicting_elf</code>. Imagine that Sett has conjured so many elves that all remaining possible elves present conflicts, because every remaining elf is thought to be another elf's friend. What then would happen if you called Sett's function? Or: how old would Sett be, when the function stopped running?\n",
    "\n",
    "---\n",
    "\n",
    "Don't say you were not warned."
   ]
  },
  {
   "cell_type": "markdown",
   "metadata": {},
   "source": [
    "---\n",
    "\n",
    "#### **Functions can call functions (can call functions (can call...))**\n",
    "\n",
    "To get his party together, all Sett needs to do in to conjure five non-conflicting elves, making sure not to include the same elf more than once.\n",
    "\n",
    "He starts with the function <code>get_happy_elves</code> to return the set of friends for a list of elves:"
   ]
  },
  {
   "cell_type": "code",
   "execution_count": 12,
   "metadata": {},
   "outputs": [],
   "source": [
    "from incantations import *              \n",
    "'''\n",
    "This function accomplished the same goal as Sett's code in Chapter 3,\n",
    "but it is organized in a way that is easier to read and re-use, because\n",
    "Sett broke the problem down into functions.\n",
    "'''\n",
    "def get_happy_elves(n):\n",
    "    count = 0\n",
    "    happy_elves = []\n",
    "    conflicts = {}\n",
    "    conflicts['friends'] = set()\n",
    "    conflicts['members'] = set()\n",
    "    while len(happy_elves) < n:\n",
    "        next_elf = non_conflicting_elf(conflicts)  # Sett calls his prior function: non_conflicting_elf\n",
    "        happy_elves.append(next_elf)               # add the next_elf to the party of elves\n",
    "        conflicts['members'] |= {next_elf['name']}            # add the next_elf's name to the conflicts\n",
    "        conflicts['friends'] |= next_elf['friends']           # add the next_elf's friends to the conflicts\n",
    "        print('Members:', conflicts['members'], 'Friends:', conflicts['friends'])\n",
    "        count += 1\n",
    "    return happy_elves"
   ]
  },
  {
   "cell_type": "code",
   "execution_count": 13,
   "metadata": {},
   "outputs": [
    {
     "name": "stdout",
     "output_type": "stream",
     "text": [
      "Members: {'Ardith'} Friends: {'Candra', 'Ryo', 'Meina', 'Dorn'}\n",
      "Members: {'Ardith', 'Sneiji'} Friends: {'Candra', 'Ryo', 'Qaio', 'Bre', 'Cosi', 'Dorn', 'Meina'}\n",
      "Members: {'Ardith', 'Sneiji', 'Maio'} Friends: {'Candra', 'Ryo', 'Qaio', 'Bre', 'Elas', 'Cosi', 'Dorn', 'Elgin', 'Zey', 'Meina'}\n",
      "Members: {'Ardith', 'Sneiji', 'Paila', 'Maio'} Friends: {'Candra', 'Ryo', 'Qaio', 'Bre', 'Elas', 'Cosi', 'Dorn', 'Kyo', 'Elgin', 'Zey', 'Meina'}\n",
      "Members: {'Aidon', 'Maio', 'Ardith', 'Sneiji', 'Paila'} Friends: {'Candra', 'Fra', 'Ryo', 'Qaio', 'Bre', 'Elas', 'Cosi', 'Dorn', 'Kyo', 'Posi', 'Elgin', 'Zey', 'Meina'}\n"
     ]
    },
    {
     "data": {
      "text/plain": [
       "[{'name': 'Ardith',\n",
       "  'race': 'elf',\n",
       "  'friends': {'Candra', 'Dorn', 'Meina', 'Ryo'},\n",
       "  'spells': {'heal', 'invisible', 'poof'},\n",
       "  'height': 4.8,\n",
       "  'health': 40,\n",
       "  'intelligence': 27},\n",
       " {'name': 'Sneiji',\n",
       "  'race': 'elf',\n",
       "  'friends': {'Bre', 'Cosi', 'Dorn', 'Meina', 'Qaio'},\n",
       "  'spells': {'heal', 'poof'},\n",
       "  'height': 5.4,\n",
       "  'health': 30,\n",
       "  'intelligence': 37},\n",
       " {'name': 'Maio',\n",
       "  'race': 'elf',\n",
       "  'friends': {'Elas', 'Elgin', 'Ryo', 'Zey'},\n",
       "  'spells': {'fireball', 'invisible', 'shadow'},\n",
       "  'height': 3.8,\n",
       "  'health': 36,\n",
       "  'intelligence': 42},\n",
       " {'name': 'Paila',\n",
       "  'race': 'elf',\n",
       "  'friends': {'Dorn', 'Elas', 'Kyo', 'Zey'},\n",
       "  'spells': {'poof', 'sleep'},\n",
       "  'height': 5.4,\n",
       "  'health': 33,\n",
       "  'intelligence': 43},\n",
       " {'name': 'Aidon',\n",
       "  'race': 'elf',\n",
       "  'friends': {'Candra', 'Dorn', 'Elgin', 'Fra', 'Posi'},\n",
       "  'spells': {'invisible', 'poof'},\n",
       "  'height': 4.7,\n",
       "  'health': 37,\n",
       "  'intelligence': 30}]"
      ]
     },
     "execution_count": 13,
     "metadata": {},
     "output_type": "execute_result"
    }
   ],
   "source": [
    "# give it a try...\n",
    "get_happy_elves(5)"
   ]
  },
  {
   "cell_type": "markdown",
   "metadata": {},
   "source": [
    "---\n",
    "\n",
    "#### **Writing your own functions**\n",
    "\n",
    "Sett forgot to mention that he needs at least one elf in his party to know each possible spell. Write a function to check that a given party of elves knows every spell, then another function to get a party of compatible elves who, collectively, know every spell. It's OK to use Sett's prior work."
   ]
  },
  {
   "cell_type": "code",
   "execution_count": null,
   "metadata": {},
   "outputs": [],
   "source": [
    "from incantations import *\n",
    "\n",
    "print(ELF_SPELLS)\n",
    "\n",
    "def knows_every_spell(my_party):\n",
    "    '''\n",
    "    Returns True if the elves in my_party, collectively, know every spell.\n",
    "    It's OK if two or more elves know the same spell.\n",
    "    '''\n",
    "    # your code here\n",
    "\n",
    "def happy_spellbound_party(n):\n",
    "    '''\n",
    "    Returns a part of compatible elves who, among them, know every spell.\n",
    "    It's OK if two or more elves know the same spell.\n",
    "    '''\n",
    "    # your code here"
   ]
  }
 ],
 "metadata": {
  "kernelspec": {
   "display_name": "Python 3",
   "language": "python",
   "name": "python3"
  },
  "language_info": {
   "codemirror_mode": {
    "name": "ipython",
    "version": 3
   },
   "file_extension": ".py",
   "mimetype": "text/x-python",
   "name": "python",
   "nbconvert_exporter": "python",
   "pygments_lexer": "ipython3",
   "version": "3.8.3"
  }
 },
 "nbformat": 4,
 "nbformat_minor": 5
}
