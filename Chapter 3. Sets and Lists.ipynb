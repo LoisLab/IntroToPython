{
 "cells": [
  {
   "cell_type": "markdown",
   "metadata": {},
   "source": [
    "Copyright 2021 LoisLab"
   ]
  },
  {
   "cell_type": "markdown",
   "metadata": {},
   "source": [
    "# **A Party of Elves**\n",
    "\n",
    "**Some things come in groups.**"
   ]
  },
  {
   "cell_type": "markdown",
   "metadata": {},
   "source": [
    "---\n",
    "\n",
    "**How to Conjure Up an Elf, or Two**\n",
    "\n",
    "Qeioros Setthereous is an elf, who goes by the nickname Sett. Sett is arranging a party of elves to travel to go and visit Fredsie. He decides to pick a party using the magic spell <code>conjure('elf')</code>, which may sound disconnected and heartless for an elf, until you remember that you are trapped in both a role playing game and a programming course. If you have begen to think of yourself as a wizard, check out the source code for conjure.\n",
    "\n",
    "Here is how Sett conjures a random elf:"
   ]
  },
  {
   "cell_type": "code",
   "execution_count": 1,
   "metadata": {},
   "outputs": [
    {
     "data": {
      "text/plain": [
       "{'name': 'Aidon',\n",
       " 'race': 'elf',\n",
       " 'friends': {'Elas', 'Fra', 'Kyo', 'Meina', 'Zey'},\n",
       " 'spells': {'freeze', 'invisible', 'shadow'},\n",
       " 'height': 4.7,\n",
       " 'health': 34,\n",
       " 'intelligence': 10}"
      ]
     },
     "execution_count": 1,
     "metadata": {},
     "output_type": "execute_result"
    }
   ],
   "source": [
    "from incantations import *    # curious about this wizardry? feel free to read incantations.py\n",
    "\n",
    "elf()"
   ]
  },
  {
   "cell_type": "markdown",
   "metadata": {},
   "source": [
    "You notice that the elf has **friends** and **spells**, which may contain one or more entries. Go back to the prior cell and conjure a few more times, and you will get the picture.\n",
    "\n",
    "What are those { } symbols around the friends and spells? The elf is a Python **dictionary** which you create using { } (remember Fredsie or your dragon), but dictionaries contain (key, value) pairs, like this:"
   ]
  },
  {
   "cell_type": "code",
   "execution_count": 2,
   "metadata": {},
   "outputs": [
    {
     "name": "stdout",
     "output_type": "stream",
     "text": [
      "the dictionary {'color': 'blue'} has value = blue for key = color\n"
     ]
    }
   ],
   "source": [
    "key = 'color'\n",
    "value = 'blue'\n",
    "a = {key: value}\n",
    "print('the dictionary', a, 'has value =', a[key], 'for key =', key)"
   ]
  },
  {
   "cell_type": "markdown",
   "metadata": {},
   "source": [
    "So do the { } always mean **dictionary**? Or, is it possible that Python uses the very same { } symbols for two different data structures? Might that cause confusion? Are you sensing a...\n",
    "\n",
    "---\n",
    "\n",
    "**WARNING OF EXTREME DANGER (3)**\n",
    "\n",
    "\n",
    "Python uses the very same { } symbols for two different data structures, which may cause confusion.\n",
    "\n",
    "---\n",
    "\n",
    "How would Sett figure out what sort of data structure contains **friends** or **spells**? For starters, he could ask Python:\n"
   ]
  },
  {
   "cell_type": "code",
   "execution_count": 3,
   "metadata": {},
   "outputs": [
    {
     "data": {
      "text/plain": [
       "{'name': 'Paila',\n",
       " 'race': 'elf',\n",
       " 'friends': {'Candra', 'Cosi', 'Dorn', 'Elgin', 'Meina'},\n",
       " 'spells': {'fireball', 'freeze', 'shadow'},\n",
       " 'height': 5.3,\n",
       " 'health': 43,\n",
       " 'intelligence': 4}"
      ]
     },
     "execution_count": 3,
     "metadata": {},
     "output_type": "execute_result"
    }
   ],
   "source": [
    "# conjure an elf\n",
    "random_elf = elf()\n",
    "random_elf"
   ]
  },
  {
   "cell_type": "code",
   "execution_count": 4,
   "metadata": {},
   "outputs": [
    {
     "data": {
      "text/plain": [
       "dict"
      ]
     },
     "execution_count": 4,
     "metadata": {},
     "output_type": "execute_result"
    }
   ],
   "source": [
    "# what Python data type is the elf?\n",
    "type(random_elf)"
   ]
  },
  {
   "cell_type": "code",
   "execution_count": 5,
   "metadata": {},
   "outputs": [
    {
     "data": {
      "text/plain": [
       "{'Candra', 'Cosi', 'Dorn', 'Elgin', 'Meina'}"
      ]
     },
     "execution_count": 5,
     "metadata": {},
     "output_type": "execute_result"
    }
   ],
   "source": [
    "# here are the elf's friends\n",
    "random_elf['friends']"
   ]
  },
  {
   "cell_type": "code",
   "execution_count": 6,
   "metadata": {},
   "outputs": [
    {
     "data": {
      "text/plain": [
       "set"
      ]
     },
     "execution_count": 6,
     "metadata": {},
     "output_type": "execute_result"
    }
   ],
   "source": [
    "# what Python data type contains the friends?\n",
    "type(random_elf['friends'])"
   ]
  },
  {
   "cell_type": "markdown",
   "metadata": {},
   "source": [
    "The friends are contained in a **set**. A set is a collection of things, stored in no particular order, in which no one thing appears more than one time. Python sets work exactly like sets in math class. Python will construct a set using { }, as long as the contents don't have any colons (:), othwerise Python makes a dictionary.\n",
    "\n",
    "With that in mind, the **warning of extreme danger** is not all that extreme. The keys for a dictionary are, in fact, a set. You can think of a set as a dictionary with only keys, no values. Or just be on the lookout for the ':'.\n",
    "\n",
    "Here are some sets:"
   ]
  },
  {
   "cell_type": "code",
   "execution_count": 7,
   "metadata": {},
   "outputs": [
    {
     "data": {
      "text/plain": [
       "{1, 2, 3, 4, 5}"
      ]
     },
     "execution_count": 7,
     "metadata": {},
     "output_type": "execute_result"
    }
   ],
   "source": [
    "{1,2,3,4,5}"
   ]
  },
  {
   "cell_type": "code",
   "execution_count": 8,
   "metadata": {},
   "outputs": [
    {
     "data": {
      "text/plain": [
       "{1, 2}"
      ]
     },
     "execution_count": 8,
     "metadata": {},
     "output_type": "execute_result"
    }
   ],
   "source": [
    "{1,1,1,2,2}"
   ]
  },
  {
   "cell_type": "code",
   "execution_count": 9,
   "metadata": {},
   "outputs": [
    {
     "data": {
      "text/plain": [
       "{'day', 'over', 'rainbow', 'some', 'the'}"
      ]
     },
     "execution_count": 9,
     "metadata": {},
     "output_type": "execute_result"
    }
   ],
   "source": [
    "{'some', 'day', 'over', 'over', 'over', 'the', 'rainbow'}"
   ]
  },
  {
   "cell_type": "markdown",
   "metadata": {},
   "source": [
    "Notice that each set contains unique entries, in no particular order? That's the nature of being a set. Python can inspect a set very quickly, and tends to rearrange the elements into the order most easily searched.\n",
    "\n",
    "Here is the (potentially) confusing part, one more time:"
   ]
  },
  {
   "cell_type": "code",
   "execution_count": 10,
   "metadata": {},
   "outputs": [
    {
     "name": "stdout",
     "output_type": "stream",
     "text": [
      "{1, 2, 'b', 'a'} {'a': 1, 'b': 2}\n"
     ]
    }
   ],
   "source": [
    "i_am_a_set = {'a',1,'b',2}\n",
    "i_am_a_dictionary = {'a': 1, 'b': 2}\n",
    "print(i_am_a_set, i_am_a_dictionary)"
   ]
  },
  {
   "cell_type": "markdown",
   "metadata": {},
   "source": [
    "---\n",
    "\n",
    "#### **Keeping the Peace on the Long Trip to See Fredsie**\n",
    "\n",
    "Sett has a problem. He needs to bring five elves to see Fredsie, but does not want any friends of any of the included elves to join his party. Elves don't always agree who is friends with whom, and the result can make for an unpleasant trip.\n",
    "\n",
    "The problem is rooted in a well-known aspect of Elven social dynamics, where one elf considers others to be his friends, but those others consider *other* elves to be *their* friends, seemingly at random. The topic is best covered in Malcom Schlotbotznik's *Probability Densities of Elven Social Clusters (New Haven University Press)*, so we won't discuss it here.\n",
    "\n",
    "If Sett conjures five elves, the odds of having no party member among the friends of other party members are low:"
   ]
  },
  {
   "cell_type": "code",
   "execution_count": 11,
   "metadata": {},
   "outputs": [
    {
     "data": {
      "text/plain": [
       "[{'name': 'Qaio',\n",
       "  'race': 'elf',\n",
       "  'friends': {'Candra', 'Cosi', 'Elas', 'Sash'},\n",
       "  'spells': {'freeze', 'invisible', 'stall'},\n",
       "  'height': 4.4,\n",
       "  'health': 39,\n",
       "  'intelligence': 20},\n",
       " {'name': 'Elas',\n",
       "  'race': 'elf',\n",
       "  'friends': {'Bre', 'Cosi', 'Dorn', 'Fra'},\n",
       "  'spells': {'freeze', 'invisible'},\n",
       "  'height': 5.6,\n",
       "  'health': 34,\n",
       "  'intelligence': 7},\n",
       " {'name': 'Fra',\n",
       "  'race': 'elf',\n",
       "  'friends': {'Kyo', 'Posi', 'Sash', 'Zey'},\n",
       "  'spells': {'fireball', 'freeze', 'poof'},\n",
       "  'height': 4.8,\n",
       "  'health': 36,\n",
       "  'intelligence': 6},\n",
       " {'name': 'Candra',\n",
       "  'race': 'elf',\n",
       "  'friends': {'Fra', 'Klee', 'Meina', 'Sash', 'Sneiji'},\n",
       "  'spells': {'fireball', 'heal'},\n",
       "  'height': 4.2,\n",
       "  'health': 44,\n",
       "  'intelligence': 15},\n",
       " {'name': 'Sneiji',\n",
       "  'race': 'elf',\n",
       "  'friends': {'Ardith', 'Fra', 'Meina', 'Sash', 'Zey'},\n",
       "  'spells': {'poof', 'stall'},\n",
       "  'height': 4.9,\n",
       "  'health': 45,\n",
       "  'intelligence': 12}]"
      ]
     },
     "execution_count": 11,
     "metadata": {},
     "output_type": "execute_result"
    }
   ],
   "source": [
    "from incantations import *\n",
    "\n",
    "party(5)"
   ]
  },
  {
   "cell_type": "markdown",
   "metadata": {},
   "source": [
    "---\n",
    "\n",
    "\n",
    "#### **Python Supports Lists**\n",
    "\n",
    "\n",
    "Wait, how did Sett get five elves in one data structure? If you look closely, you may notice that the elves are surrounded by the symbols [ ]. In Python, [ ] is a **list**. A list is an ordered collection of things, which may nor may not contain same element more than once. You can access list elements using the same indexing and slicing operators that you used to crack Fredsie's code:"
   ]
  },
  {
   "cell_type": "code",
   "execution_count": 12,
   "metadata": {},
   "outputs": [
    {
     "name": "stdout",
     "output_type": "stream",
     "text": [
      "['socks do no match', 'is today Tuesday?', 'coffee is cold', 'puppy is too quiet']\n"
     ]
    }
   ],
   "source": [
    "concerns = ['socks do no match', 'is today Tuesday?', 'coffee is cold', 'puppy is too quiet']\n",
    "print(concerns)"
   ]
  },
  {
   "cell_type": "code",
   "execution_count": 13,
   "metadata": {},
   "outputs": [
    {
     "data": {
      "text/plain": [
       "'coffee is cold'"
      ]
     },
     "execution_count": 13,
     "metadata": {},
     "output_type": "execute_result"
    }
   ],
   "source": [
    "concerns[2]     # the third element, which is at position 2"
   ]
  },
  {
   "cell_type": "code",
   "execution_count": 14,
   "metadata": {},
   "outputs": [
    {
     "data": {
      "text/plain": [
       "['socks do no match', 'is today Tuesday?']"
      ]
     },
     "execution_count": 14,
     "metadata": {},
     "output_type": "execute_result"
    }
   ],
   "source": [
    "concerns[0:2]   # the first two elements"
   ]
  },
  {
   "cell_type": "code",
   "execution_count": 15,
   "metadata": {},
   "outputs": [
    {
     "data": {
      "text/plain": [
       "'puppy is too quiet'"
      ]
     },
     "execution_count": 15,
     "metadata": {},
     "output_type": "execute_result"
    }
   ],
   "source": [
    "concerns[-1]    # the last element"
   ]
  },
  {
   "cell_type": "code",
   "execution_count": 16,
   "metadata": {},
   "outputs": [
    {
     "data": {
      "text/plain": [
       "['socks do no match', 'coffee is cold']"
      ]
     },
     "execution_count": 16,
     "metadata": {},
     "output_type": "execute_result"
    }
   ],
   "source": [
    "concerns[::2]    # every second element"
   ]
  },
  {
   "cell_type": "markdown",
   "metadata": {},
   "source": [
    "So Sett can keep a list of his party of elves, then use it in a variety of ways:"
   ]
  },
  {
   "cell_type": "code",
   "execution_count": 17,
   "metadata": {},
   "outputs": [
    {
     "name": "stdout",
     "output_type": "stream",
     "text": [
      "Sett conjured  5 elves\n"
     ]
    }
   ],
   "source": [
    "# conjure a list of 5 elves\n",
    "setts_party = party(5)\n",
    "\n",
    "print('Sett conjured ', len(setts_party), 'elves')    # the len() function returns the length of a data structure"
   ]
  },
  {
   "cell_type": "code",
   "execution_count": 18,
   "metadata": {},
   "outputs": [
    {
     "data": {
      "text/plain": [
       "{'name': 'Aidon',\n",
       " 'race': 'elf',\n",
       " 'friends': {'Bre', 'Elas', 'Meina', 'Posi', 'Qaio'},\n",
       " 'spells': {'poof', 'sleep', 'stall'},\n",
       " 'height': 3.0,\n",
       " 'health': 30,\n",
       " 'intelligence': 16}"
      ]
     },
     "execution_count": 18,
     "metadata": {},
     "output_type": "execute_result"
    }
   ],
   "source": [
    "# here is the third elf (at position 2 in the list)\n",
    "setts_party[2]"
   ]
  },
  {
   "cell_type": "code",
   "execution_count": 19,
   "metadata": {},
   "outputs": [
    {
     "data": {
      "text/plain": [
       "{'Bre', 'Elas', 'Meina', 'Posi', 'Qaio'}"
      ]
     },
     "execution_count": 19,
     "metadata": {},
     "output_type": "execute_result"
    }
   ],
   "source": [
    "# here are the third's elf's presumptive friends\n",
    "setts_party[2]['friends']"
   ]
  },
  {
   "cell_type": "markdown",
   "metadata": {},
   "source": [
    "See how Python puts one data structure inside of another?\n",
    "\n",
    "In this case:\n",
    "\n",
    "> <code>setts_party</code> is a list of dictionaries (each dictionary represent one elf)\n",
    "\n",
    "> each elf includes the key <code>friends</code> and a related value, which is a list of names of friends\n",
    "\n",
    "In Python, you can combine layers upon layers of data structures, until you model a whole universe, or create an complete train wreck, where the train was full of data.\n",
    "\n",
    "Back to Sett. Sett needs to check whether any of his elves consider any other to be a friend. To do that, he needs to loop over the list of elves. Python lets you do that, with a list, or any other data structure that is *iterable*:"
   ]
  },
  {
   "cell_type": "code",
   "execution_count": 20,
   "metadata": {},
   "outputs": [
    {
     "name": "stdout",
     "output_type": "stream",
     "text": [
      "Candra\n",
      "Sneiji\n",
      "Aidon\n",
      "Qaio\n",
      "Kyo\n"
     ]
    }
   ],
   "source": [
    "for next_elf in setts_party:  # iterate over the list of elves, one elf at a time\n",
    "    print(next_elf['name'])"
   ]
  },
  {
   "cell_type": "markdown",
   "metadata": {},
   "source": [
    "Armed with the ability to examine each elf, Sett has a plan to detect potential Elven hurt feelings, which he scribbles down in Elven pseudocode:\n",
    " \n",
    "```\n",
    "  make an empty 'friends' set\n",
    "\n",
    "  for each elf, check in that elf is in the 'friends' set\n",
    "    if so, panic\n",
    "    if not, add that elf's friends to the 'friends' set\n",
    "\n",
    "```"
   ]
  },
  {
   "cell_type": "code",
   "execution_count": 21,
   "metadata": {},
   "outputs": [
    {
     "name": "stdout",
     "output_type": "stream",
     "text": [
      "oh no!  Aidon is a friend\n",
      "if Sett did not panic, he got really lucky... try conjuring a new party of elves\n"
     ]
    }
   ],
   "source": [
    "from incantations import *\n",
    "\n",
    "friends = set()  # this is Python for 'make an empty set'\n",
    "\n",
    "for next_elf in setts_party:                                # for each elf in the party\n",
    "    if next_elf['name'] in friends:                         # if this elf is among the known friends...\n",
    "        print('oh no! ', next_elf['name'], 'is a friend')   # ...panic!\n",
    "        break\n",
    "    else:\n",
    "        friends = friends | next_elf['friends']             # ...else add this elf's friends\n",
    "        \n",
    "print('if Sett did not panic, he got really lucky... try conjuring a new party of elves')"
   ]
  },
  {
   "cell_type": "markdown",
   "metadata": {},
   "source": [
    "Did you notice that Sett slipped in the **|** operator? That calculates the **union** of two sets. Python includes these set operations:\n",
    "\n",
    "\n",
    "```\n",
    "\n",
    "| finds the union (what is in either A or B?)\n",
    "\n",
    "& finds the intersection (what is in both A and B?)\n",
    "\n",
    "– finds the difference (what is in A, but not B?)\n",
    "\n",
    "^ finds the symmetric difference (what is in A or B, but not both A and B?)\n",
    "\n",
    "```\n",
    "\n",
    "Here are a few examples:"
   ]
  },
  {
   "cell_type": "code",
   "execution_count": 22,
   "metadata": {},
   "outputs": [],
   "source": [
    "A = {'apples', 'bananas'}\n",
    "B = {'apples', 'peaches', 'pears'}"
   ]
  },
  {
   "cell_type": "code",
   "execution_count": 23,
   "metadata": {},
   "outputs": [
    {
     "data": {
      "text/plain": [
       "{'apples', 'bananas', 'peaches', 'pears'}"
      ]
     },
     "execution_count": 23,
     "metadata": {},
     "output_type": "execute_result"
    }
   ],
   "source": [
    "A | B   # union (everything in A or B)"
   ]
  },
  {
   "cell_type": "code",
   "execution_count": 24,
   "metadata": {},
   "outputs": [
    {
     "data": {
      "text/plain": [
       "{'apples'}"
      ]
     },
     "execution_count": 24,
     "metadata": {},
     "output_type": "execute_result"
    }
   ],
   "source": [
    "A & B   # intersection (everything in A and B)"
   ]
  },
  {
   "cell_type": "code",
   "execution_count": 25,
   "metadata": {},
   "outputs": [
    {
     "data": {
      "text/plain": [
       "{'bananas'}"
      ]
     },
     "execution_count": 25,
     "metadata": {},
     "output_type": "execute_result"
    }
   ],
   "source": [
    "A - B   # everything in A that is not in B"
   ]
  },
  {
   "cell_type": "code",
   "execution_count": 26,
   "metadata": {},
   "outputs": [
    {
     "data": {
      "text/plain": [
       "{'bananas', 'peaches', 'pears'}"
      ]
     },
     "execution_count": 26,
     "metadata": {},
     "output_type": "execute_result"
    }
   ],
   "source": [
    "A ^ B   # everything that is in either A or B, but not both"
   ]
  },
  {
   "cell_type": "markdown",
   "metadata": {},
   "source": [
    "---\n",
    "\n",
    "#### **Using Brute Force Computing to Solve Problems**\n",
    "\n",
    "Sett has limited programming skills, so the thinks of a not-at-all-efficient way to conjure a group of five elves, not of whom presume any of the others to be friends. He decides to try conjuring five elves, and if any are considered to be friends by any other, to start over. Sett is using **brute force**, which means 'the simplest way to apply computing power to do a thing, regardless of whether it's wasteful'.\n",
    "\n",
    "For starters, Sett decides to create a set of the names of the elves in the party, to make it easier to check who's who. At first, Sett writes this code:"
   ]
  },
  {
   "cell_type": "code",
   "execution_count": 27,
   "metadata": {},
   "outputs": [
    {
     "data": {
      "text/plain": [
       "{'Candra', 'Fra', 'Posi', 'Qaio', 'Sash'}"
      ]
     },
     "execution_count": 27,
     "metadata": {},
     "output_type": "execute_result"
    }
   ],
   "source": [
    "from incantations import *\n",
    "\n",
    "setts_party = party(5)\n",
    "names = set()                      # start with an empty set\n",
    "\n",
    "for next_elf in setts_party:       # for each elf in the party...\n",
    "    names.add(next_elf['name'])    # ...add that elf's name to the set\n",
    "\n",
    "names"
   ]
  },
  {
   "cell_type": "markdown",
   "metadata": {},
   "source": [
    "Later, Sett realizes that Python can insert a for loop inside { }, to make the set of names all at once:"
   ]
  },
  {
   "cell_type": "code",
   "execution_count": 28,
   "metadata": {},
   "outputs": [
    {
     "data": {
      "text/plain": [
       "{'Candra', 'Fra', 'Posi', 'Qaio', 'Sash'}"
      ]
     },
     "execution_count": 28,
     "metadata": {},
     "output_type": "execute_result"
    }
   ],
   "source": [
    "same_names = {next_elf['name'] for next_elf in setts_party}   # this is a Python set constructor, using a for loop\n",
    "same_names"
   ]
  },
  {
   "cell_type": "markdown",
   "metadata": {},
   "source": [
    "That reminds Sett that there's more than one way to do any given task, in Python.\n",
    "\n",
    "Sett builds a quick conflict detector, to get oriented:"
   ]
  },
  {
   "cell_type": "code",
   "execution_count": 29,
   "metadata": {},
   "outputs": [
    {
     "name": "stdout",
     "output_type": "stream",
     "text": [
      "the party includes {'Maio', 'Aidon', 'Dorn', 'Meina', 'Fra'} \n",
      "\n",
      "> Aidon is easy to have around on a trip to see Fredsie\n",
      "X Dorn has {'Meina'} among his or her friends\n",
      "X Maio has {'Aidon'} among his or her friends\n",
      "X Fra has {'Dorn'} among his or her friends\n",
      "> Meina is easy to have around on a trip to see Fredsie\n"
     ]
    }
   ],
   "source": [
    "from incantations import *\n",
    "\n",
    "# see how this works? it uses set operators to create a unique set of names for the party,\n",
    "# then looks for intersections between that set of names and each set of friends.\n",
    "\n",
    "setts_party = party(5)\n",
    "names = {next_elf['name'] for next_elf in setts_party} \n",
    "print('the party includes', names, '\\n')\n",
    "for next_elf in setts_party:\n",
    "    conflicting_names = next_elf['friends'] & names\n",
    "    if len(conflicting_names) > 0:\n",
    "        print('X', next_elf['name'], 'has', conflicting_names, 'among his or her friends')\n",
    "    else:\n",
    "        print('>', next_elf['name'], 'is easy to have around on a trip to see Fredsie')"
   ]
  },
  {
   "cell_type": "markdown",
   "metadata": {},
   "source": [
    "Sett procceds with his orginal not-too-efficient plan. He will examine the intersection of the set of names with each set of friends, to count the conflicts. If the number of conflicts exceeds zero, Sett will start over."
   ]
  },
  {
   "cell_type": "code",
   "execution_count": 34,
   "metadata": {},
   "outputs": [
    {
     "name": "stdout",
     "output_type": "stream",
     "text": [
      "here are the elves: {'Ardith', 'Cosi', 'Ryo', 'Paila', 'Fra'} ; it took 47 tries\n",
      "here are the friends: {'Sneiji', 'Bre', 'Maio', 'Zey', 'Qaio', 'Kyo', 'Posi', 'Elgin', 'Dorn', 'Elas', 'Sash'}\n",
      "here are the conflicts: set()\n"
     ]
    }
   ],
   "source": [
    "from incantations import *\n",
    "\n",
    "tries = 0\n",
    "while (True):                                                # this is Python for 'loop forever'\n",
    "    setts_party = party(5)                                   # make a party of five elves\n",
    "    tries += 1\n",
    "    names = {next_elf['name'] for next_elf in setts_party}   # make a set of names in the party\n",
    "    conflicts = 0                                            # get ready to count the conflicts among friends\n",
    "    for next_elf in setts_party:                             # loop over each elf in the party\n",
    "        conflicts += len(next_elf['friends'] & names)        # add to conflicts the number of elves who are friends\n",
    "    if conflicts == 0:                                       # if there are no conflicts...\n",
    "        break                                                # ...break out of the loop\n",
    "\n",
    "print('here are the elves:', names,'; it took', tries,'tries')\n",
    "\n",
    "friends = set()                                              # make a set of all the friends of all the elves\n",
    "for next_elf in setts_party:\n",
    "    friends |= next_elf['friends']\n",
    "    \n",
    "print('here are the friends:', friends)\n",
    "\n",
    "print('here are the conflicts:', names & friends)            # this should print an empty set (no conflicts)"
   ]
  },
  {
   "cell_type": "markdown",
   "metadata": {},
   "source": [
    "---\n",
    "\n",
    "#### **Setting an Example for Sett the Elf**\n",
    "\n",
    "Sett's alogrithm takes hundreds (or thousands) of attempts to come up with a party of 5 elves with no conflicts. Write an algorithm that is more efficient, which finds a party with no conflicts. For inspiration, imagine you are a dungeon master. Would you approach the problem in the same way that Sett did?\n",
    "\n"
   ]
  },
  {
   "cell_type": "code",
   "execution_count": null,
   "metadata": {},
   "outputs": [],
   "source": [
    "from incantations import *\n",
    "\n",
    "# your code here"
   ]
  }
 ],
 "metadata": {
  "kernelspec": {
   "display_name": "Python 3",
   "language": "python",
   "name": "python3"
  },
  "language_info": {
   "codemirror_mode": {
    "name": "ipython",
    "version": 3
   },
   "file_extension": ".py",
   "mimetype": "text/x-python",
   "name": "python",
   "nbconvert_exporter": "python",
   "pygments_lexer": "ipython3",
   "version": "3.8.3"
  }
 },
 "nbformat": 4,
 "nbformat_minor": 4
}
